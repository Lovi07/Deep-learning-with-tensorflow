{
 "cells": [
  {
   "cell_type": "markdown",
   "metadata": {},
   "source": [
    "<img src=\"https://cf-courses-data.s3.us.cloud-object-storage.appdomain.cloud/IBMDeveloperSkillsNetwork-DL0120EN-SkillsNetwork/images/IDSN-logo.png\" width=\"300\" alt=\"cognitiveclass.ai logo\">\n",
    "\n",
    "<h1 align=\"center\"><font size=\"5\">RESTRICTED BOLTZMANN MACHINES</font></h1>\n"
   ]
  },
  {
   "cell_type": "markdown",
   "metadata": {},
   "source": [
    "Estimated time needed: **25** minutes\n"
   ]
  },
  {
   "cell_type": "markdown",
   "metadata": {},
   "source": [
    "<h3>Introduction</h3>\n",
    "<b>Restricted Boltzmann Machine (RBM):</b>  RBMs are shallow neural nets that learn to reconstruct data by themselves in an unsupervised fashion.  \n",
    "\n",
    "\n",
    "<h4>Why are RBMs important?</h4>\n",
    "An RBM are a basic form of autoencoder.  It can automatically extract <b>meaningful</b> features from a given input.\n",
    "\n",
    "\n",
    "<h4>How does it work?</h4>\n",
    "RBM is a 2 layer neural network. Simply, RBM takes the inputs and translates those into a set of binary values that represents them in the hidden layer. Then, these numbers can be translated back to reconstruct the inputs. Through several forward and backward passes, the RBM will be trained, and a trained RBM can reveal which features are the most important ones when detecting patterns.   \n",
    "\n",
    "\n",
    "<h4>What are the applications of an RBM?</h4>\n",
    "RBM is useful for <a href='http://www.cs.utoronto.ca/~hinton/absps/netflixICML.pdf'>  Collaborative Filtering</a>, dimensionality reduction, classification, regression, feature learning, topic modeling and even <b>Deep Belief Networks</b>.\n",
    "\n",
    "<h4>Is RBM a generative or Discriminative model?</h4>\n",
    "RBM is a generative model. Let me explain it by first, see what is different between discriminative and generative models: \n",
    "\n",
    "<b>Discriminative:</b> Consider a classification problem where we want to learn to distinguish between Sedan cars (y = 1) and SUV cars (y = 0), based on some features of cars. Given a training set, an algorithm like logistic regression tries to find a straight line, or <i>decision boundary</i>, that separates the suv and sedan.  \n",
    "\n",
    "<b>Generative:</b> looking at cars, we can build a model of what Sedan cars look like. Then, looking at SUVs, we can build a separate model of what SUV cars look like. Finally, to classify a new car, we can match the new car against the Sedan model, and match it against the SUV model, to see whether the new car looks more like the SUV or Sedan. \n",
    "\n",
    "Generative Models specify a probability distribution over a dataset of input vectors. We can carry out both supervised and unsupervised tasks with generative models:\n",
    "<ul>\n",
    "    <li>In an unsupervised task, we try to form a model for $P(x)$, where $P$ is the probability given $x$ as an input vector.</li>\n",
    "    <li>In the supervised task, we first form a model for $P(x|y)$, where $P$ is the probability of $x$ given $y$(the label for $x$). For example, if $y = 0$ indicates that a car is an SUV, and $y = 1$ indicates that a car is a sedan, then $p(x|y = 0)$ models the distribution of SUV features, and $p(x|y = 1)$ models the distribution of sedan features. If we manage to find $P(x|y)$ and $P(y)$, then we can use <b>Bayes rule</b> to estimate $P(y|x)$, because:   \n",
    "        $$p(y|x) = \\frac{p(x|y)p(y)}{p(x)}$$</li>\n",
    "</ul>\n",
    "Now the question is, can we build a generative model, and then use it to create synthetic data by directly sampling from the modeled probability distributions? Lets see. \n"
   ]
  },
  {
   "cell_type": "markdown",
   "metadata": {},
   "source": [
    "<h2>Table of Contents</h2>\n",
    "<ol>\n",
    "    <li><a href=\"#ref1\">Initialization</a></li>\n",
    "    <li><a href=\"#ref2\">RBM layers</a></li>\n",
    "    <li><a href=\"#ref3\">What RBM can do after training?</a></li>\n",
    "    <li><a href=\"#ref4\">How to train the model?</a></li>\n",
    "    <li><a href=\"#ref5\">Learned features</a></li>\n",
    "</ol>\n",
    "<p></p>\n",
    "</div>\n",
    "<br>\n",
    "\n",
    "<hr>\n"
   ]
  },
  {
   "cell_type": "markdown",
   "metadata": {},
   "source": [
    "<a id=\"ref1\"></a>\n",
    "<h3>Initialization</h3>\n",
    "\n",
    "First, we have to load the utility file which contains different utility functions that are not connected\n",
    "in any way to the networks presented in the tutorials, but rather help in\n",
    "processing the outputs into a more understandable way.\n"
   ]
  },
  {
   "cell_type": "code",
   "execution_count": 1,
   "metadata": {},
   "outputs": [],
   "source": [
    "import urllib.request\n",
    "with urllib.request.urlopen(\"https://cf-courses-data.s3.us.cloud-object-storage.appdomain.cloud/IBMDeveloperSkillsNetwork-DL0120EN-SkillsNetwork/labs/Week4/data/utils.py\") as url:\n",
    "    response = url.read()\n",
    "target = open('utils.py', 'w')\n",
    "target.write(response.decode('utf-8'))\n",
    "target.close()"
   ]
  },
  {
   "cell_type": "markdown",
   "metadata": {},
   "source": [
    "<h2>Installing TensorFlow </h2>\n",
    "\n",
    "We will installing TensorFlow version 2.9.0 and its required prerequistes.  Also installing pillow...\n"
   ]
  },
  {
   "cell_type": "code",
   "execution_count": 2,
   "metadata": {},
   "outputs": [
    {
     "name": "stdout",
     "output_type": "stream",
     "text": [
      "Requirement already satisfied: grpcio==1.24.3 in /home/jupyterlab/conda/envs/python/lib/python3.7/site-packages (1.24.3)\n",
      "Requirement already satisfied: six>=1.5.2 in /home/jupyterlab/conda/envs/python/lib/python3.7/site-packages (from grpcio==1.24.3) (1.16.0)\n",
      "Requirement already satisfied: tensorflow==2.9.0 in /home/jupyterlab/conda/envs/python/lib/python3.7/site-packages (2.9.0)\n",
      "Requirement already satisfied: absl-py>=1.0.0 in /home/jupyterlab/conda/envs/python/lib/python3.7/site-packages (from tensorflow==2.9.0) (1.4.0)\n",
      "Requirement already satisfied: astunparse>=1.6.0 in /home/jupyterlab/conda/envs/python/lib/python3.7/site-packages (from tensorflow==2.9.0) (1.6.3)\n",
      "Requirement already satisfied: flatbuffers<2,>=1.12 in /home/jupyterlab/conda/envs/python/lib/python3.7/site-packages (from tensorflow==2.9.0) (1.12)\n",
      "Requirement already satisfied: gast<=0.4.0,>=0.2.1 in /home/jupyterlab/conda/envs/python/lib/python3.7/site-packages (from tensorflow==2.9.0) (0.4.0)\n",
      "Requirement already satisfied: google-pasta>=0.1.1 in /home/jupyterlab/conda/envs/python/lib/python3.7/site-packages (from tensorflow==2.9.0) (0.2.0)\n",
      "Requirement already satisfied: grpcio<2.0,>=1.24.3 in /home/jupyterlab/conda/envs/python/lib/python3.7/site-packages (from tensorflow==2.9.0) (1.24.3)\n",
      "Requirement already satisfied: h5py>=2.9.0 in /home/jupyterlab/conda/envs/python/lib/python3.7/site-packages (from tensorflow==2.9.0) (3.8.0)\n",
      "Requirement already satisfied: keras<2.10.0,>=2.9.0rc0 in /home/jupyterlab/conda/envs/python/lib/python3.7/site-packages (from tensorflow==2.9.0) (2.9.0)\n",
      "Requirement already satisfied: keras-preprocessing>=1.1.1 in /home/jupyterlab/conda/envs/python/lib/python3.7/site-packages (from tensorflow==2.9.0) (1.1.2)\n",
      "Requirement already satisfied: libclang>=13.0.0 in /home/jupyterlab/conda/envs/python/lib/python3.7/site-packages (from tensorflow==2.9.0) (18.1.1)\n",
      "Requirement already satisfied: numpy>=1.20 in /home/jupyterlab/conda/envs/python/lib/python3.7/site-packages (from tensorflow==2.9.0) (1.21.4)\n",
      "Requirement already satisfied: opt-einsum>=2.3.2 in /home/jupyterlab/conda/envs/python/lib/python3.7/site-packages (from tensorflow==2.9.0) (3.3.0)\n",
      "Requirement already satisfied: packaging in /home/jupyterlab/conda/envs/python/lib/python3.7/site-packages (from tensorflow==2.9.0) (23.1)\n",
      "Requirement already satisfied: protobuf>=3.9.2 in /home/jupyterlab/conda/envs/python/lib/python3.7/site-packages (from tensorflow==2.9.0) (3.19.6)\n",
      "Requirement already satisfied: setuptools in /home/jupyterlab/conda/envs/python/lib/python3.7/site-packages (from tensorflow==2.9.0) (67.7.2)\n",
      "Requirement already satisfied: six>=1.12.0 in /home/jupyterlab/conda/envs/python/lib/python3.7/site-packages (from tensorflow==2.9.0) (1.16.0)\n",
      "Requirement already satisfied: tensorboard<2.10,>=2.9 in /home/jupyterlab/conda/envs/python/lib/python3.7/site-packages (from tensorflow==2.9.0) (2.9.1)\n",
      "Requirement already satisfied: tensorflow-io-gcs-filesystem>=0.23.1 in /home/jupyterlab/conda/envs/python/lib/python3.7/site-packages (from tensorflow==2.9.0) (0.34.0)\n",
      "Requirement already satisfied: tensorflow-estimator<2.10.0,>=2.9.0rc0 in /home/jupyterlab/conda/envs/python/lib/python3.7/site-packages (from tensorflow==2.9.0) (2.9.0)\n",
      "Requirement already satisfied: termcolor>=1.1.0 in /home/jupyterlab/conda/envs/python/lib/python3.7/site-packages (from tensorflow==2.9.0) (2.3.0)\n",
      "Requirement already satisfied: typing-extensions>=3.6.6 in /home/jupyterlab/conda/envs/python/lib/python3.7/site-packages (from tensorflow==2.9.0) (4.5.0)\n",
      "Requirement already satisfied: wrapt>=1.11.0 in /home/jupyterlab/conda/envs/python/lib/python3.7/site-packages (from tensorflow==2.9.0) (1.14.1)\n",
      "Requirement already satisfied: wheel<1.0,>=0.23.0 in /home/jupyterlab/conda/envs/python/lib/python3.7/site-packages (from astunparse>=1.6.0->tensorflow==2.9.0) (0.40.0)\n",
      "Requirement already satisfied: google-auth<3,>=1.6.3 in /home/jupyterlab/conda/envs/python/lib/python3.7/site-packages (from tensorboard<2.10,>=2.9->tensorflow==2.9.0) (2.31.0)\n",
      "Requirement already satisfied: google-auth-oauthlib<0.5,>=0.4.1 in /home/jupyterlab/conda/envs/python/lib/python3.7/site-packages (from tensorboard<2.10,>=2.9->tensorflow==2.9.0) (0.4.6)\n",
      "Requirement already satisfied: markdown>=2.6.8 in /home/jupyterlab/conda/envs/python/lib/python3.7/site-packages (from tensorboard<2.10,>=2.9->tensorflow==2.9.0) (3.4.3)\n",
      "Requirement already satisfied: requests<3,>=2.21.0 in /home/jupyterlab/conda/envs/python/lib/python3.7/site-packages (from tensorboard<2.10,>=2.9->tensorflow==2.9.0) (2.29.0)\n",
      "Requirement already satisfied: tensorboard-data-server<0.7.0,>=0.6.0 in /home/jupyterlab/conda/envs/python/lib/python3.7/site-packages (from tensorboard<2.10,>=2.9->tensorflow==2.9.0) (0.6.1)\n",
      "Requirement already satisfied: tensorboard-plugin-wit>=1.6.0 in /home/jupyterlab/conda/envs/python/lib/python3.7/site-packages (from tensorboard<2.10,>=2.9->tensorflow==2.9.0) (1.8.1)\n",
      "Requirement already satisfied: werkzeug>=1.0.1 in /home/jupyterlab/conda/envs/python/lib/python3.7/site-packages (from tensorboard<2.10,>=2.9->tensorflow==2.9.0) (2.2.3)\n",
      "Requirement already satisfied: cachetools<6.0,>=2.0.0 in /home/jupyterlab/conda/envs/python/lib/python3.7/site-packages (from google-auth<3,>=1.6.3->tensorboard<2.10,>=2.9->tensorflow==2.9.0) (5.3.3)\n",
      "Requirement already satisfied: pyasn1-modules>=0.2.1 in /home/jupyterlab/conda/envs/python/lib/python3.7/site-packages (from google-auth<3,>=1.6.3->tensorboard<2.10,>=2.9->tensorflow==2.9.0) (0.3.0)\n",
      "Requirement already satisfied: rsa<5,>=3.1.4 in /home/jupyterlab/conda/envs/python/lib/python3.7/site-packages (from google-auth<3,>=1.6.3->tensorboard<2.10,>=2.9->tensorflow==2.9.0) (4.9)\n",
      "Requirement already satisfied: requests-oauthlib>=0.7.0 in /home/jupyterlab/conda/envs/python/lib/python3.7/site-packages (from google-auth-oauthlib<0.5,>=0.4.1->tensorboard<2.10,>=2.9->tensorflow==2.9.0) (2.0.0)\n",
      "Requirement already satisfied: importlib-metadata>=4.4 in /home/jupyterlab/conda/envs/python/lib/python3.7/site-packages (from markdown>=2.6.8->tensorboard<2.10,>=2.9->tensorflow==2.9.0) (4.11.4)\n",
      "Requirement already satisfied: charset-normalizer<4,>=2 in /home/jupyterlab/conda/envs/python/lib/python3.7/site-packages (from requests<3,>=2.21.0->tensorboard<2.10,>=2.9->tensorflow==2.9.0) (3.1.0)\n",
      "Requirement already satisfied: idna<4,>=2.5 in /home/jupyterlab/conda/envs/python/lib/python3.7/site-packages (from requests<3,>=2.21.0->tensorboard<2.10,>=2.9->tensorflow==2.9.0) (3.4)\n",
      "Requirement already satisfied: urllib3<1.27,>=1.21.1 in /home/jupyterlab/conda/envs/python/lib/python3.7/site-packages (from requests<3,>=2.21.0->tensorboard<2.10,>=2.9->tensorflow==2.9.0) (1.26.15)\n",
      "Requirement already satisfied: certifi>=2017.4.17 in /home/jupyterlab/conda/envs/python/lib/python3.7/site-packages (from requests<3,>=2.21.0->tensorboard<2.10,>=2.9->tensorflow==2.9.0) (2023.5.7)\n",
      "Requirement already satisfied: MarkupSafe>=2.1.1 in /home/jupyterlab/conda/envs/python/lib/python3.7/site-packages (from werkzeug>=1.0.1->tensorboard<2.10,>=2.9->tensorflow==2.9.0) (2.1.1)\n",
      "Requirement already satisfied: zipp>=0.5 in /home/jupyterlab/conda/envs/python/lib/python3.7/site-packages (from importlib-metadata>=4.4->markdown>=2.6.8->tensorboard<2.10,>=2.9->tensorflow==2.9.0) (3.15.0)\n",
      "Requirement already satisfied: pyasn1<0.6.0,>=0.4.6 in /home/jupyterlab/conda/envs/python/lib/python3.7/site-packages (from pyasn1-modules>=0.2.1->google-auth<3,>=1.6.3->tensorboard<2.10,>=2.9->tensorflow==2.9.0) (0.5.0)\n",
      "Requirement already satisfied: oauthlib>=3.0.0 in /home/jupyterlab/conda/envs/python/lib/python3.7/site-packages (from requests-oauthlib>=0.7.0->google-auth-oauthlib<0.5,>=0.4.1->tensorboard<2.10,>=2.9->tensorflow==2.9.0) (3.2.2)\n",
      "Requirement already satisfied: pillow==8.1.0 in /home/jupyterlab/conda/envs/python/lib/python3.7/site-packages (8.1.0)\n"
     ]
    }
   ],
   "source": [
    "!pip install grpcio==1.24.3\n",
    "!pip install tensorflow==2.9.0\n",
    "!pip install pillow==8.1.0"
   ]
  },
  {
   "cell_type": "markdown",
   "metadata": {},
   "source": [
    "**Restart kernel for latest version of TensorFlow to be activated, then continue to the next section.**\n"
   ]
  },
  {
   "cell_type": "markdown",
   "metadata": {},
   "source": [
    "<b>Notice:</b> This notebook has been created with TensorFlow version 2.9.0, and might not work with other versions. Therefore we check:\n"
   ]
  },
  {
   "cell_type": "code",
   "execution_count": 3,
   "metadata": {},
   "outputs": [
    {
     "name": "stderr",
     "output_type": "stream",
     "text": [
      "2024-07-03 06:24:30.125836: I tensorflow/core/util/util.cc:169] oneDNN custom operations are on. You may see slightly different numerical results due to floating-point round-off errors from different computation orders. To turn them off, set the environment variable `TF_ENABLE_ONEDNN_OPTS=0`.\n",
      "2024-07-03 06:24:30.131062: W tensorflow/stream_executor/platform/default/dso_loader.cc:64] Could not load dynamic library 'libcudart.so.11.0'; dlerror: libcudart.so.11.0: cannot open shared object file: No such file or directory\n",
      "2024-07-03 06:24:30.131090: I tensorflow/stream_executor/cuda/cudart_stub.cc:29] Ignore above cudart dlerror if you do not have a GPU set up on your machine.\n"
     ]
    }
   ],
   "source": [
    "import tensorflow as tf\n",
    "from IPython.display import Markdown, display\n",
    "\n",
    "def printmd(string):\n",
    "    display(Markdown('# <span style=\"color:red\">'+string+'</span>'))\n",
    "\n",
    "\n",
    "if not tf.__version__ == '2.9.0':\n",
    "    printmd('<<<<<!!!!! ERROR !!!! please upgrade to TensorFlow 2.9.0, or restart your Kernel (Kernel->Restart & Clear Output)>>>>>')"
   ]
  },
  {
   "cell_type": "markdown",
   "metadata": {},
   "source": [
    "Now, we load in all the packages that we use to create the net including the TensorFlow package:\n"
   ]
  },
  {
   "cell_type": "code",
   "execution_count": 4,
   "metadata": {},
   "outputs": [],
   "source": [
    "import tensorflow as tf\n",
    "import numpy as np\n",
    "\n",
    "from PIL import Image\n",
    "from utils import tile_raster_images\n",
    "import matplotlib.pyplot as plt\n",
    "%matplotlib inline"
   ]
  },
  {
   "cell_type": "markdown",
   "metadata": {},
   "source": [
    "<hr>\n"
   ]
  },
  {
   "cell_type": "markdown",
   "metadata": {},
   "source": [
    "<a id=\"ref2\"></a>\n",
    "<h3>RBM layers</h3>\n",
    "\n",
    "An RBM has two layers. The first layer of the RBM is called the <b>visible</b> (or input layer). Imagine that our toy example, has only vectors with 7 values, so the visible layer must have $V=7$ input nodes. \n",
    "The second layer is the <b>hidden</b> layer, which has $H$ neurons in our case. Each hidden node takes on values of either 0 or 1 (i.e., $h_i = 1$ or $h_i$ = 0), with a probability that is a logistic function of the inputs it receives from the other $V$ visible units, called for example, $p(h_i = 1)$. For our toy sample, we'll use 2 nodes in the hidden layer, so $H = 2$.\n",
    "\n",
    "<center><img src=\"https://ibm.box.com/shared/static/eu26opvcefgls6vnwuo29uwp0nudmokh.png\" alt=\"RBM Model\" style=\"width: 400px;\"></center>\n"
   ]
  },
  {
   "cell_type": "markdown",
   "metadata": {},
   "source": [
    "     \n",
    "\n",
    "Each node in the first layer also has a <b>bias</b>. We will denote the bias as $v_{bias}$, and this single value is shared among the $V$ visible units.\n",
    "\n",
    "The <b>bias</b> of the second is defined similarly as $h_{bias}$, and this single value among the $H$ hidden units.\n"
   ]
  },
  {
   "cell_type": "code",
   "execution_count": 5,
   "metadata": {},
   "outputs": [
    {
     "name": "stderr",
     "output_type": "stream",
     "text": [
      "2024-07-03 06:24:33.404018: W tensorflow/stream_executor/platform/default/dso_loader.cc:64] Could not load dynamic library 'libcuda.so.1'; dlerror: libcuda.so.1: cannot open shared object file: No such file or directory\n",
      "2024-07-03 06:24:33.404073: W tensorflow/stream_executor/cuda/cuda_driver.cc:269] failed call to cuInit: UNKNOWN ERROR (303)\n",
      "2024-07-03 06:24:33.404107: I tensorflow/stream_executor/cuda/cuda_diagnostics.cc:156] kernel driver does not appear to be running on this host (jupyterlab-lovishsingl1): /proc/driver/nvidia/version does not exist\n",
      "2024-07-03 06:24:33.404630: I tensorflow/core/platform/cpu_feature_guard.cc:193] This TensorFlow binary is optimized with oneAPI Deep Neural Network Library (oneDNN) to use the following CPU instructions in performance-critical operations:  AVX2 AVX512F AVX512_VNNI FMA\n",
      "To enable them in other operations, rebuild TensorFlow with the appropriate compiler flags.\n"
     ]
    }
   ],
   "source": [
    "v_bias = tf.Variable(tf.zeros([7]), tf.float32)\n",
    "h_bias = tf.Variable(tf.zeros([2]), tf.float32)"
   ]
  },
  {
   "cell_type": "markdown",
   "metadata": {},
   "source": [
    "We have to define weights among the input layer and hidden layer nodes. In the weight matrix, the number of rows are equal to the input nodes, and the number of columns are equal to the output nodes. We define a tensor $\\mathbf{W}$ of shape = (7,2), where the number of visible neurons = 7, and the number of hidden neurons = 2. \n"
   ]
  },
  {
   "cell_type": "code",
   "execution_count": 6,
   "metadata": {},
   "outputs": [],
   "source": [
    "W = tf.constant(np.random.normal(loc=0.0, scale=1.0, size=(7, 2)).astype(np.float32))"
   ]
  },
  {
   "cell_type": "markdown",
   "metadata": {},
   "source": [
    "<hr>\n"
   ]
  },
  {
   "cell_type": "markdown",
   "metadata": {},
   "source": [
    "<a id=\"ref3\"></a>\n",
    "<h3>What RBM can do after training?</h3>\n",
    "Think of RBM as a model that has been trained based on images of a dataset of many SUV and sedan cars. Also, imagine that the RBM network has only two hidden nodes, where one node encodes the weight and, and the other encodes the size.  \n",
    "In a sense, the different configurations represent different cars, where one is an SUV and the other is Sedan.  In a training process, through many forward and backward passes, the RBM adjust its weights to send a stronger signal to either the SUV node (0, 1) or the sedan node (1, 0) in the hidden layer, given the pixels of images. Now, given an SUV in hidden layer, which distribution of pixels should we expect? RBM can give you 2 things. First, it encodes your images in hidden layer. Second, it gives you the probability of observing a case, given some hidden values.\n",
    "\n",
    "\n",
    "<h3>The Inference Process</h3>\n",
    "\n",
    "RBM has two phases:\n",
    "<ul>\n",
    "    <li>Forward Pass</li>  \n",
    "    <li>Backward Pass or Reconstruction</li>\n",
    "</ul>\n",
    "\n",
    "<b>Phase 1) Forward pass:</b>  \n",
    "\n",
    "Input one training sample (one image) $\\mathbf{x}$ through all visible nodes, and pass it to all hidden nodes. Processing happens in each node in the hidden layer. This computation begins by making stochastic decisions about whether to transmit that input or not (i.e. to determine the state of each hidden layer).  First, the probability vector is computed using the input feature vector $\\mathbf{x}$, the weight matrix $\\mathbf{W}$, and the bias term $h_{bias}$, as \n",
    "\n",
    "\n",
    "$$p({h_j}|\\mathbf x)= \\sigma( \\sum_{i=1}^V W_{ij} x_i + h_{bias} )$$, \n",
    "\n",
    "where $\\sigma(z) = (1+e^{-z})^{-1}$ is the logistic function.\n",
    "\n",
    "\n",
    "So, what does $p({h_j})$ represent? It is the <b>probability distribution</b> of the hidden units. That is, RBM uses inputs $x_i$ to make predictions about hidden node activations. For example, imagine that the hidden node activation values are [0.51 0.84] for the first training item. It tells you that the conditional probability for each hidden neuron for Phase 1 is: \n",
    "\n",
    "$$p(h_{1} = 1|\\mathbf{v}) = 0.51$$\n",
    "$$p(h_{2} = 1|\\mathbf{v}) = 0.84$$\n",
    "\n",
    "As a result, for each row in the training set, vector of probabilities is generated.  In TensorFlow, this is referred to as a `tensor` with a shape of (1,2). \n",
    "\n",
    "We then turn unit $j$ with probability $p(h_{j}|\\mathbf{v})$, and turn it off with probability $1 - p(h_{j}|\\mathbf{v})$ by generating a uniform random number vector $\\mathbf{\\xi}$, and comparing it to the activation probability as \n",
    "\n",
    "<center>If $\\xi_j>p(h_{j}|\\mathbf{v})$, then $h_j=1$, else $h_j=0$.</center>\n",
    "\n",
    "\n",
    "Therefore, the conditional probability of a configuration of $\\mathbf{h}$ given $\\mathbf{v}$ (for a training sample) is:\n",
    "\n",
    "$$p(\\mathbf{h} \\mid \\mathbf{v}) = \\prod_{j=1}^H p(h_j \\mid \\mathbf{v})$$\n",
    "\n",
    "\n",
    "where $H$ is the number of hidden units.\n",
    "\n"
   ]
  },
  {
   "cell_type": "markdown",
   "metadata": {},
   "source": [
    "Before we go further, let's look at a toy example for one case out of all input. Assume that we have a trained RBM, and a very simple input vector, such as [1.0, 0.0, 0.0, 1.0, 0.0, 0.0, 0.0].   \n",
    "Let's see what the output of forward pass would look like:\n"
   ]
  },
  {
   "cell_type": "code",
   "execution_count": 7,
   "metadata": {},
   "outputs": [
    {
     "name": "stdout",
     "output_type": "stream",
     "text": [
      "Input:  tf.Tensor([[1. 0. 0. 1. 0. 0. 0.]], shape=(1, 7), dtype=float32)\n",
      "hb:  tf.Tensor([0.1 0.1], shape=(2,), dtype=float32)\n",
      "w:  tf.Tensor(\n",
      "[[ 1.179891    0.2403454 ]\n",
      " [-1.2958007  -0.73259634]\n",
      " [ 0.7012999   0.18304186]\n",
      " [-0.22860025  1.0665443 ]\n",
      " [ 0.1383095  -0.6472917 ]\n",
      " [ 0.66947675  0.72927743]\n",
      " [ 0.7378956  -0.5775115 ]], shape=(7, 2), dtype=float32)\n",
      "p(h|v):  tf.Tensor([[0.7410227  0.80327487]], shape=(1, 2), dtype=float32)\n",
      "h0 states: tf.Tensor([[1. 1.]], shape=(1, 2), dtype=float32)\n"
     ]
    }
   ],
   "source": [
    "X = tf.constant([[1.0, 0.0, 0.0, 1.0, 0.0, 0.0, 0.0]], tf.float32)\n",
    "\n",
    "v_state = X\n",
    "print (\"Input: \", v_state)\n",
    "\n",
    "h_bias = tf.constant([0.1, 0.1])\n",
    "print (\"hb: \", h_bias)\n",
    "print (\"w: \", W)\n",
    "\n",
    "# Calculate the probabilities of turning the hidden units on:\n",
    "h_prob = tf.nn.sigmoid(tf.matmul(v_state, W) + h_bias)  #probabilities of the hidden units\n",
    "print (\"p(h|v): \", h_prob)\n",
    "\n",
    "# Draw samples from the distribution:\n",
    "h_state = tf.nn.relu(tf.sign(h_prob - tf.random.uniform(tf.shape(h_prob)))) #states\n",
    "print (\"h0 states:\", h_state)"
   ]
  },
  {
   "cell_type": "markdown",
   "metadata": {},
   "source": [
    "<b>Phase 2) Backward Pass (Reconstruction):</b>\n",
    "The RBM reconstructs data by making several forward and backward passes between the visible and hidden layers.\n",
    "\n",
    "So, in the second phase (i.e. reconstruction phase), the samples from the hidden layer (i.e. $\\mathbf h$) becomes the input in the backward pass. The same weight matrix and visible layer biases are used to passed to the sigmoid function. The reproduced output is a reconstruction which is an approximation of the original input.\n"
   ]
  },
  {
   "cell_type": "code",
   "execution_count": 8,
   "metadata": {},
   "outputs": [
    {
     "name": "stdout",
     "output_type": "stream",
     "text": [
      "b:  tf.Tensor([0.1 0.2 0.1 0.1 0.1 0.2 0.1], shape=(7,), dtype=float32)\n",
      "p(vi∣h):  tf.Tensor(\n",
      "[[0.8205733  0.13842934 0.7279689  0.7186842  0.39915618 0.8318442\n",
      "  0.5647307 ]], shape=(1, 7), dtype=float32)\n",
      "v probability states:  tf.Tensor([[1. 0. 1. 0. 1. 0. 0.]], shape=(1, 7), dtype=float32)\n"
     ]
    }
   ],
   "source": [
    "vb = tf.constant([0.1, 0.2, 0.1, 0.1, 0.1, 0.2, 0.1])\n",
    "print (\"b: \", vb)\n",
    "v_prob = tf.nn.sigmoid(tf.matmul(h_state, tf.transpose(W)) + vb)\n",
    "print (\"p(vi∣h): \", v_prob)\n",
    "v_state = tf.nn.relu(tf.sign(v_prob - tf.random.uniform(tf.shape(v_prob))))\n",
    "print (\"v probability states: \", v_state)"
   ]
  },
  {
   "cell_type": "markdown",
   "metadata": {},
   "source": [
    "RBM learns a probability distribution over the input, and then, after being trained, the RBM can generate new samples from the learned probability distribution. As you know, <b>probability distribution</b>, is a mathematical function that provides the probabilities of occurrence of different possible outcomes in an experiment.\n",
    "\n",
    "The (conditional) probability distribution over the visible units v is given by\n",
    "\n",
    "$$p(\\mathbf{v} \\mid \\mathbf{h}) = \\prod_{i=1}^V p(v_i \\mid \\mathbf{h}),$$\n",
    "\n",
    "\n",
    "where,\n",
    "\n",
    "$$p(v_i \\mid \\mathbf{h}) = \\sigma\\left(\\sum_{j=1}^H W_{ji} h_j + v_{bias} \\right)$$\n",
    "\n",
    "so, given current state of hidden units and weights, what is the probability of generating [1. 0. 0. 1. 0. 0. 0.] in reconstruction phase, based on the above <b>probability distribution</b> function?\n"
   ]
  },
  {
   "cell_type": "code",
   "execution_count": 9,
   "metadata": {},
   "outputs": [
    {
     "name": "stdout",
     "output_type": "stream",
     "text": [
      "input X: [[1. 0. 0. 1. 0. 0. 0.]]\n",
      "probablity vector: [0.8205733  0.13842934 0.7279689  0.7186842  0.39915618 0.8318442\n",
      " 0.5647307 ]\n",
      "probability of generating X:  0.006078499\n"
     ]
    }
   ],
   "source": [
    "inp = X\n",
    "print(\"input X:\" , inp.numpy())\n",
    "\n",
    "print(\"probablity vector:\" , v_prob[0].numpy())\n",
    "v_probability = 1\n",
    "\n",
    "for elm, p in zip(inp[0],v_prob[0]) :\n",
    "    if elm ==1:\n",
    "        v_probability *= p\n",
    "    else:\n",
    "        v_probability *= (1-p)\n",
    "\n",
    "print(\"probability of generating X: \" , v_probability.numpy())"
   ]
  },
  {
   "cell_type": "markdown",
   "metadata": {},
   "source": [
    "How similar are vectors $\\mathbf{x}$ and $\\mathbf{v}$? Of course, the reconstructed values most likely will not look anything like the input vector, because our network has not been trained yet. Our objective is to train the model in such a way that the input vector and reconstructed vector to be same. Therefore, based on how different the input values look to the ones that we just reconstructed, the weights are adjusted. \n"
   ]
  },
  {
   "cell_type": "markdown",
   "metadata": {},
   "source": [
    "<hr>\n"
   ]
  },
  {
   "cell_type": "markdown",
   "metadata": {},
   "source": [
    "\n",
    "<h2>MNIST</h2>\n"
   ]
  },
  {
   "cell_type": "markdown",
   "metadata": {},
   "source": [
    "We will be using the MNIST dataset to practice the usage of RBMs. The following cell loads the MNIST dataset.\n"
   ]
  },
  {
   "cell_type": "code",
   "execution_count": 10,
   "metadata": {},
   "outputs": [
    {
     "name": "stdout",
     "output_type": "stream",
     "text": [
      "Downloading data from https://storage.googleapis.com/tensorflow/tf-keras-datasets/mnist.npz\n",
      "11490434/11490434 [==============================] - 0s 0us/step\n"
     ]
    }
   ],
   "source": [
    "#loading training and test data\n",
    "mnist = tf.keras.datasets.mnist\n",
    "(trX, trY), (teX, teY) = mnist.load_data()\n",
    "\n",
    "# showing an example of the Flatten class and operation\n",
    "from tensorflow.keras.layers import Flatten\n",
    "flatten = Flatten(dtype='float32')\n",
    "trX = flatten(trX/255.0)\n",
    "trY = flatten(trY/255.0)"
   ]
  },
  {
   "cell_type": "markdown",
   "metadata": {},
   "source": [
    "Lets look at the dimension of the images.\n"
   ]
  },
  {
   "cell_type": "markdown",
   "metadata": {},
   "source": [
    "MNIST images have 784 pixels, so the visible layer must have 784 input nodes.  For our case, we'll use 50 nodes in the hidden layer, so i = 50.\n"
   ]
  },
  {
   "cell_type": "code",
   "execution_count": 11,
   "metadata": {},
   "outputs": [],
   "source": [
    "vb = tf.Variable(tf.zeros([784]), tf.float32)\n",
    "hb = tf.Variable(tf.zeros([50]), tf.float32)"
   ]
  },
  {
   "cell_type": "markdown",
   "metadata": {},
   "source": [
    "Let $\\mathbf W$ be the Tensor of 784x50 (784 - number of visible neurons, 50 - number of hidden neurons) that represents weights between the neurons. \n"
   ]
  },
  {
   "cell_type": "code",
   "execution_count": 12,
   "metadata": {},
   "outputs": [],
   "source": [
    "W = tf.Variable(tf.zeros([784,50]), tf.float32)"
   ]
  },
  {
   "cell_type": "markdown",
   "metadata": {},
   "source": [
    "Lets define the visible layer:\n"
   ]
  },
  {
   "cell_type": "code",
   "execution_count": 13,
   "metadata": {},
   "outputs": [
    {
     "data": {
      "text/plain": [
       "<tf.Tensor: shape=(1, 50), dtype=float32, numpy=\n",
       "array([[0., 0., 0., 0., 0., 0., 0., 0., 0., 0., 0., 0., 0., 0., 0., 0.,\n",
       "        0., 0., 0., 0., 0., 0., 0., 0., 0., 0., 0., 0., 0., 0., 0., 0.,\n",
       "        0., 0., 0., 0., 0., 0., 0., 0., 0., 0., 0., 0., 0., 0., 0., 0.,\n",
       "        0., 0.]], dtype=float32)>"
      ]
     },
     "execution_count": 13,
     "metadata": {},
     "output_type": "execute_result"
    }
   ],
   "source": [
    "v0_state = tf.Variable(tf.zeros([784]), tf.float32)\n",
    "\n",
    "#testing to see if the matrix product works\n",
    "tf.matmul( [v0_state], W)"
   ]
  },
  {
   "cell_type": "markdown",
   "metadata": {},
   "source": [
    "Now, we can define hidden layer:\n"
   ]
  },
  {
   "cell_type": "code",
   "execution_count": 14,
   "metadata": {},
   "outputs": [
    {
     "name": "stdout",
     "output_type": "stream",
     "text": [
      "h0_state shape:  tf.Tensor([ 1 50], shape=(2,), dtype=int32)\n",
      "first 15 hidden states:  tf.Tensor([1. 0. 0. 1. 0. 1. 1. 0. 0. 0. 0. 1. 0. 1. 0.], shape=(15,), dtype=float32)\n"
     ]
    }
   ],
   "source": [
    "#computing the hidden nodes probability vector and checking shape\n",
    "h0_prob = tf.nn.sigmoid(tf.matmul([v0_state], W) + hb)  #probabilities of the hidden units\n",
    "print(\"h0_state shape: \" , tf.shape(h0_prob))\n",
    "\n",
    "#defining a function to return only the generated hidden states \n",
    "def hidden_layer(v0_state, W, hb):\n",
    "    h0_prob = tf.nn.sigmoid(tf.matmul([v0_state], W) + hb)  #probabilities of the hidden units\n",
    "    h0_state = tf.nn.relu(tf.sign(h0_prob - tf.random.uniform(tf.shape(h0_prob)))) #sample_h_given_X\n",
    "    return h0_state\n",
    "\n",
    "\n",
    "h0_state = hidden_layer(v0_state, W, hb)\n",
    "print(\"first 15 hidden states: \", h0_state[0][0:15])"
   ]
  },
  {
   "cell_type": "markdown",
   "metadata": {},
   "source": [
    "Now, we define reconstruction part:\n"
   ]
  },
  {
   "cell_type": "code",
   "execution_count": 15,
   "metadata": {},
   "outputs": [
    {
     "name": "stdout",
     "output_type": "stream",
     "text": [
      "hidden state shape:  (1, 50)\n",
      "v0 state shape:   (784,)\n",
      "v1 state shape:   (784,)\n"
     ]
    }
   ],
   "source": [
    "def reconstructed_output(h0_state, W, vb):\n",
    "    v1_prob = tf.nn.sigmoid(tf.matmul(h0_state, tf.transpose(W)) + vb) \n",
    "    v1_state = tf.nn.relu(tf.sign(v1_prob - tf.random.uniform(tf.shape(v1_prob)))) #sample_v_given_h\n",
    "    return v1_state[0]\n",
    "\n",
    "v1_state = reconstructed_output(h0_state, W, vb)\n",
    "print(\"hidden state shape: \", h0_state.shape)\n",
    "print(\"v0 state shape:  \", v0_state.shape)\n",
    "print(\"v1 state shape:  \", v1_state.shape)"
   ]
  },
  {
   "cell_type": "markdown",
   "metadata": {},
   "source": [
    "<h3>What is the objective function?</h3>\n",
    "\n",
    "<b>Goal</b>: Maximize the likelihood of our data being drawn from that distribution\n",
    "\n",
    "<b>Calculate error:</b>  \n",
    "In each epoch, we compute the \"error\" as a sum of the squared difference between step 1 and step n,\n",
    "e.g the error shows the difference between the data and its reconstruction.\n",
    "\n",
    "<b>Note:</b> tf.reduce_mean computes the mean of elements across dimensions of a tensor.\n"
   ]
  },
  {
   "cell_type": "code",
   "execution_count": 16,
   "metadata": {},
   "outputs": [
    {
     "name": "stdout",
     "output_type": "stream",
     "text": [
      "error 0.50127554\n"
     ]
    }
   ],
   "source": [
    "def error(v0_state, v1_state):\n",
    "    return tf.reduce_mean(tf.square(v0_state - v1_state))\n",
    "\n",
    "err = tf.reduce_mean(tf.square(v0_state - v1_state))\n",
    "print(\"error\" , err.numpy())"
   ]
  },
  {
   "cell_type": "markdown",
   "metadata": {},
   "source": [
    "<a id=\"ref4\"></a>\n",
    "<h3>Training the Model</h3>\n",
    "<b>Warning...</b> The following part is math-heavy, but you can skip it if you just want to run the cells in the next section.\n",
    "\n",
    "As mentioned, we want to give a high probability to the input data we train on. So, in order to train an RBM, we have to maximize the product of probabilities assigned to all rows $\\mathbf{v}$ (images) in the training set $\\mathbf{V}$ (a matrix, where each row of it is treated as a visible vector $\\mathbf{v}$)\n",
    "\n",
    "$$\\arg \\max_W \\prod_{\\mathbf{v}\\in\\mathbf{V}_T} p(\\mathbf{v})$$\n",
    "\n",
    "\n",
    "which is equivalent to maximizing the expectation of the log probability, given as\n",
    "\n",
    "$$\\arg\\max_W\\left[ \\mathbb{E} \\left(\\prod_{\\mathbf v\\in \\mathbf V}\\text{log} \\left(p(\\mathbf v)\\right) \\right) \\right].$$\n",
    "\n",
    "\n",
    "So, we have to update the weights $W_{ij}$  to increase $p(\\mathbf{v})$ for all $\\mathbf{v}$ in our training data during training. So we have to calculate the derivative:\n",
    "\n",
    "\n",
    "$$\\frac{\\partial \\log p(\\mathbf v)}{\\partial W_{ij}}$$\n",
    "\n",
    "This cannot be easily done by typical <b>gradient descent (SGD)</b>, so we can use another approach, which has 2 steps:\n",
    "<ol>\n",
    "    <li>Gibbs Sampling</li>\n",
    "    <li>Contrastive Divergence</li>\n",
    "</ol>    \n",
    "    \n",
    "<h3>Gibbs Sampling</h3>   \n",
    "\n",
    "<h4>Gibbs Sampling Step 1</h4> \n",
    "Given an input vector $\\mathbf{v}$, we are using $p(\\mathbf{h}|\\mathbf{v})$ to predict the hidden values $\\mathbf{h}$. \n",
    "  $$p({h_j}|\\mathbf v)= \\sigma\\left(\\sum_{i=1}^V W_{ij} v_i + h_{bias} \\right)$$\n",
    "The samples are generated from this distribution by generating the uniform random variate vector $\\mathbf{\\xi} \\sim U[0,1]$ of length $H$ and comparing to the computed probabilities as\n",
    "\n",
    "\n",
    "<center>If $\\xi_j>p(h_{j}|\\mathbf{v})$, then $h_j=1$, else $h_j=0$.</center>\n",
    "\n",
    "\n",
    "<h4>Gibbs Sampling Step 2</h4> \n",
    "Then, knowing the hidden values, we use $p(\\mathbf v| \\mathbf h)$ for reconstructing of new input values v. \n",
    "\n",
    "   $$p({v_i}|\\mathbf h)= \\sigma\\left(\\sum_{j=1}^H W^{T}_{ij} h_j + v_{bias} \\right)$$\n",
    "\n",
    "\n",
    "The samples are generated from this distribution by generating a uniform random variate vector $\\mathbf{\\xi} \\sim U[0,1]$ of length $V$ and comparing to the computed probabilities as\n",
    "\n",
    "<center>If $\\xi_i>p(v_{i}|\\mathbf{h})$, then $v_i=1$, else $v_i=0$.</center>\n",
    "\n",
    "Let vectors $\\mathbf v_k$ and $\\mathbf h_k$ be for the $k$th iteration.  In general, the $kth$ state is generrated as: \n",
    "\n",
    "\n",
    "    \n",
    "<b>Iteration</b> $k$: \n",
    "\n",
    "$$\\mathbf v_{k-1} \\Rightarrow p(\\mathbf h_{k-1}|\\mathbf v_{k-1})\\Rightarrow \\mathbf h_{k-1}\\Rightarrow p(\\mathbf v_{k}|\\mathbf h_{k-1})\\Rightarrow \\mathbf v_k$$       \n",
    "    \n",
    "<h3>Contrastive Divergence (CD-k)</h3>\n",
    "The update of the weight matrix is done during the Contrastive Divergence step. \n",
    "\n",
    "Vectors v0 and vk are used to calculate the activation probabilities for hidden values h0 and hk. The difference between the outer products of those probabilities with input vectors v0 and vk results in the update matrix:\n",
    "\n",
    "\n",
    "$$\\Delta \\mathbf W_k =\\mathbf v_k \\otimes \\mathbf h_k - \\mathbf v_{k-1} \\otimes \\mathbf h_{k-1}$$\n",
    "\n",
    "Contrastive Divergence is actually matrix of values that is computed and used to adjust values of the $\\mathbf W$ matrix. Changing $\\mathbf W$ incrementally leads to training of the  $\\mathbf W$ values. Then, on each step (epoch), $\\mathbf W$ is updated using the following:\n",
    "\n",
    "$$\\mathbf W_k = \\mathbf W_{k-1} + \\alpha * \\Delta \\mathbf W_k$$\n",
    "\n",
    "\n",
    "\n",
    "Reconstruction steps:\n",
    "<ul>\n",
    "    <li> Get one data point from data set, like <i>x</i>, and pass it through the following steps:</li>\n",
    "    \n",
    "<b>Iteration</b> $k=1$: \n",
    "    \n",
    "Sampling (starting with input image)\n",
    "    $$\\mathbf x = \\mathbf v_0 \\Rightarrow p(\\mathbf h_0|\\mathbf v_0)\\Rightarrow \\mathbf h_0 \\Rightarrow p(\\mathbf v_1|\\mathbf h_0)\\Rightarrow \\mathbf v_1$$   \n",
    "    followed by the CD-k step\n",
    "$$\\Delta \\mathbf W_1 =\\mathbf v_1 \\otimes \\mathbf h_1 - \\mathbf v_{0} \\otimes \\mathbf h_{0}$$     \n",
    "$$\\mathbf W_1 = \\mathbf W_{0} + \\alpha * \\Delta \\mathbf W_1$$ \n",
    " \n",
    "<li> $\\mathbf v_1$ is the reconstruction of $\\mathbf x$ sent to the next iteration).</li>\n",
    "\n",
    "<b>Iteration</b> $k=2$: \n",
    "\n",
    "Sampling (starting with $\\mathbf v_1$)\n",
    "\n",
    "$$\\mathbf v_1 \\Rightarrow p(\\mathbf h_1|\\mathbf v_1)\\Rightarrow \\mathbf h_1\\Rightarrow p(\\mathbf v_2|\\mathbf h_1)\\Rightarrow \\mathbf v_2$$   \n",
    "\n",
    "followed by the CD-k step\n",
    "$$\\Delta \\mathbf W_2 =\\mathbf v_2 \\otimes \\mathbf h_2 - \\mathbf v_{1} \\otimes \\mathbf h_{1}$$     \n",
    "$$\\mathbf W_2 = \\mathbf W_{1} + \\alpha * \\Delta \\mathbf W_2$$ \n",
    "\n",
    "<li> $\\mathbf v_2$ is the reconstruction of $\\mathbf v_1$ sent to the next iteration).</li>    \n",
    "      \n",
    "<b>Iteration</b> $k=K$:\n",
    "    \n",
    "Sampling (starting with $\\mathbf v_{K-1}$)\n",
    "\n",
    "$$\\mathbf v_{K-1} \\Rightarrow p(\\mathbf h_{K-1}|\\mathbf v_{K-1})\\Rightarrow \\mathbf h_{K-1}\\Rightarrow p(\\mathbf v_K|\\mathbf h_{K-1})\\Rightarrow \\mathbf v_K$$   \n",
    "\n",
    "followed by the CD-k step\n",
    "$$\\Delta \\mathbf W_K =\\mathbf v_K \\otimes \\mathbf h_K - \\mathbf v_{K-1} \\otimes \\mathbf h_{K-1}$$     \n",
    "$$\\mathbf W_K = \\mathbf W_{K-1} + \\alpha * \\Delta \\mathbf W_K$$ \n",
    "    \n",
    "<b>What is $\\alpha$?</b>  \n",
    "Here, alpha is some small step size, and is also known as the \"learning rate\".\n"
   ]
  },
  {
   "cell_type": "markdown",
   "metadata": {},
   "source": [
    "$K$ is adjustable, and good performance can be achieved with $K=1$, so that we just take one set of sampling steps per image.\n"
   ]
  },
  {
   "cell_type": "code",
   "execution_count": 17,
   "metadata": {},
   "outputs": [],
   "source": [
    "h1_prob = tf.nn.sigmoid(tf.matmul([v1_state], W) + hb)\n",
    "h1_state = tf.nn.relu(tf.sign(h1_prob - tf.random.uniform(tf.shape(h1_prob)))) #sample_h_given_X"
   ]
  },
  {
   "cell_type": "markdown",
   "metadata": {},
   "source": [
    "Lets look at the error of the first run:\n"
   ]
  },
  {
   "cell_type": "code",
   "execution_count": 18,
   "metadata": {},
   "outputs": [
    {
     "name": "stdout",
     "output_type": "stream",
     "text": [
      "error:  tf.Tensor(0.50127554, shape=(), dtype=float32)\n"
     ]
    }
   ],
   "source": [
    "print(\"error: \", error(v0_state, v1_state))"
   ]
  },
  {
   "cell_type": "code",
   "execution_count": 19,
   "metadata": {},
   "outputs": [
    {
     "name": "stdout",
     "output_type": "stream",
     "text": [
      "Epoch: 0 batch #: 1  of 300 sample #: 199 reconstruction error: 0.175653\n",
      "Epoch: 0 batch #: 2  of 300 sample #: 199 reconstruction error: 0.222687\n",
      "Epoch: 0 batch #: 3  of 300 sample #: 199 reconstruction error: 0.120014\n",
      "Epoch: 0 batch #: 4  of 300 sample #: 199 reconstruction error: 0.133785\n",
      "Epoch: 0 batch #: 5  of 300 sample #: 199 reconstruction error: 0.117215\n",
      "Epoch: 0 batch #: 6  of 300 sample #: 199 reconstruction error: 0.165776\n",
      "Epoch: 0 batch #: 7  of 300 sample #: 199 reconstruction error: 0.088649\n",
      "Epoch: 0 batch #: 8  of 300 sample #: 199 reconstruction error: 0.119699\n",
      "Epoch: 0 batch #: 9  of 300 sample #: 199 reconstruction error: 0.087917\n",
      "Epoch: 0 batch #: 10  of 300 sample #: 199 reconstruction error: 0.170269\n",
      "Epoch: 0 batch #: 11  of 300 sample #: 199 reconstruction error: 0.088004\n",
      "Epoch: 0 batch #: 12  of 300 sample #: 199 reconstruction error: 0.138927\n",
      "Epoch: 0 batch #: 13  of 300 sample #: 199 reconstruction error: 0.057401\n",
      "Epoch: 0 batch #: 14  of 300 sample #: 199 reconstruction error: 0.114682\n",
      "Epoch: 0 batch #: 15  of 300 sample #: 199 reconstruction error: 0.108479\n",
      "Epoch: 0 batch #: 16  of 300 sample #: 199 reconstruction error: 0.096398\n",
      "Epoch: 0 batch #: 17  of 300 sample #: 199 reconstruction error: 0.083426\n",
      "Epoch: 0 batch #: 18  of 300 sample #: 199 reconstruction error: 0.113342\n",
      "Epoch: 0 batch #: 19  of 300 sample #: 199 reconstruction error: 0.150930\n",
      "Epoch: 0 batch #: 20  of 300 sample #: 199 reconstruction error: 0.100821\n",
      "Epoch: 0 batch #: 21  of 300 sample #: 199 reconstruction error: 0.100708\n",
      "Epoch: 0 batch #: 22  of 300 sample #: 199 reconstruction error: 0.081405\n",
      "Epoch: 0 batch #: 23  of 300 sample #: 199 reconstruction error: 0.112976\n",
      "Epoch: 0 batch #: 24  of 300 sample #: 199 reconstruction error: 0.129136\n",
      "Epoch: 0 batch #: 25  of 300 sample #: 199 reconstruction error: 0.084549\n",
      "Epoch: 0 batch #: 26  of 300 sample #: 199 reconstruction error: 0.092219\n",
      "Epoch: 0 batch #: 27  of 300 sample #: 199 reconstruction error: 0.107673\n",
      "Epoch: 0 batch #: 28  of 300 sample #: 199 reconstruction error: 0.097321\n",
      "Epoch: 0 batch #: 29  of 300 sample #: 199 reconstruction error: 0.099715\n",
      "Epoch: 0 batch #: 30  of 300 sample #: 199 reconstruction error: 0.089278\n",
      "Epoch: 0 batch #: 31  of 300 sample #: 199 reconstruction error: 0.086582\n",
      "Epoch: 0 batch #: 32  of 300 sample #: 199 reconstruction error: 0.122610\n",
      "Epoch: 0 batch #: 33  of 300 sample #: 199 reconstruction error: 0.042481\n",
      "Epoch: 0 batch #: 34  of 300 sample #: 199 reconstruction error: 0.074300\n",
      "Epoch: 0 batch #: 35  of 300 sample #: 199 reconstruction error: 0.075491\n",
      "Epoch: 0 batch #: 36  of 300 sample #: 199 reconstruction error: 0.097644\n",
      "Epoch: 0 batch #: 37  of 300 sample #: 199 reconstruction error: 0.063314\n",
      "Epoch: 0 batch #: 38  of 300 sample #: 199 reconstruction error: 0.068767\n",
      "Epoch: 0 batch #: 39  of 300 sample #: 199 reconstruction error: 0.088250\n",
      "Epoch: 0 batch #: 40  of 300 sample #: 199 reconstruction error: 0.120142\n",
      "Epoch: 0 batch #: 41  of 300 sample #: 199 reconstruction error: 0.077973\n",
      "Epoch: 0 batch #: 42  of 300 sample #: 199 reconstruction error: 0.080736\n",
      "Epoch: 0 batch #: 43  of 300 sample #: 199 reconstruction error: 0.118056\n",
      "Epoch: 0 batch #: 44  of 300 sample #: 199 reconstruction error: 0.063972\n",
      "Epoch: 0 batch #: 45  of 300 sample #: 199 reconstruction error: 0.062978\n",
      "Epoch: 0 batch #: 46  of 300 sample #: 199 reconstruction error: 0.036318\n",
      "Epoch: 0 batch #: 47  of 300 sample #: 199 reconstruction error: 0.043607\n",
      "Epoch: 0 batch #: 48  of 300 sample #: 199 reconstruction error: 0.043788\n",
      "Epoch: 0 batch #: 49  of 300 sample #: 199 reconstruction error: 0.121142\n",
      "Epoch: 0 batch #: 50  of 300 sample #: 199 reconstruction error: 0.046301\n",
      "Epoch: 0 batch #: 51  of 300 sample #: 199 reconstruction error: 0.070434\n",
      "Epoch: 0 batch #: 52  of 300 sample #: 199 reconstruction error: 0.038231\n",
      "Epoch: 0 batch #: 53  of 300 sample #: 199 reconstruction error: 0.108088\n",
      "Epoch: 0 batch #: 54  of 300 sample #: 199 reconstruction error: 0.058347\n",
      "Epoch: 0 batch #: 55  of 300 sample #: 199 reconstruction error: 0.109860\n",
      "Epoch: 0 batch #: 56  of 300 sample #: 199 reconstruction error: 0.079650\n",
      "Epoch: 0 batch #: 57  of 300 sample #: 199 reconstruction error: 0.047184\n",
      "Epoch: 0 batch #: 58  of 300 sample #: 199 reconstruction error: 0.075683\n",
      "Epoch: 0 batch #: 59  of 300 sample #: 199 reconstruction error: 0.052099\n",
      "Epoch: 0 batch #: 60  of 300 sample #: 199 reconstruction error: 0.103818\n",
      "Epoch: 0 batch #: 61  of 300 sample #: 199 reconstruction error: 0.075080\n",
      "Epoch: 0 batch #: 62  of 300 sample #: 199 reconstruction error: 0.075701\n",
      "Epoch: 0 batch #: 63  of 300 sample #: 199 reconstruction error: 0.050624\n",
      "Epoch: 0 batch #: 64  of 300 sample #: 199 reconstruction error: 0.098908\n",
      "Epoch: 0 batch #: 65  of 300 sample #: 199 reconstruction error: 0.080077\n",
      "Epoch: 0 batch #: 66  of 300 sample #: 199 reconstruction error: 0.053258\n",
      "Epoch: 0 batch #: 67  of 300 sample #: 199 reconstruction error: 0.042742\n",
      "Epoch: 0 batch #: 68  of 300 sample #: 199 reconstruction error: 0.064209\n",
      "Epoch: 0 batch #: 69  of 300 sample #: 199 reconstruction error: 0.086173\n",
      "Epoch: 0 batch #: 70  of 300 sample #: 199 reconstruction error: 0.086739\n",
      "Epoch: 0 batch #: 71  of 300 sample #: 199 reconstruction error: 0.082237\n",
      "Epoch: 0 batch #: 72  of 300 sample #: 199 reconstruction error: 0.076241\n",
      "Epoch: 0 batch #: 73  of 300 sample #: 199 reconstruction error: 0.081687\n",
      "Epoch: 0 batch #: 74  of 300 sample #: 199 reconstruction error: 0.091263\n",
      "Epoch: 0 batch #: 75  of 300 sample #: 199 reconstruction error: 0.061433\n",
      "Epoch: 0 batch #: 76  of 300 sample #: 199 reconstruction error: 0.077451\n",
      "Epoch: 0 batch #: 77  of 300 sample #: 199 reconstruction error: 0.097517\n",
      "Epoch: 0 batch #: 78  of 300 sample #: 199 reconstruction error: 0.090889\n",
      "Epoch: 0 batch #: 79  of 300 sample #: 199 reconstruction error: 0.110538\n",
      "Epoch: 0 batch #: 80  of 300 sample #: 199 reconstruction error: 0.025934\n",
      "Epoch: 0 batch #: 81  of 300 sample #: 199 reconstruction error: 0.052155\n",
      "Epoch: 0 batch #: 82  of 300 sample #: 199 reconstruction error: 0.046483\n",
      "Epoch: 0 batch #: 83  of 300 sample #: 199 reconstruction error: 0.073669\n",
      "Epoch: 0 batch #: 84  of 300 sample #: 199 reconstruction error: 0.073681\n",
      "Epoch: 0 batch #: 85  of 300 sample #: 199 reconstruction error: 0.056052\n",
      "Epoch: 0 batch #: 86  of 300 sample #: 199 reconstruction error: 0.076685\n",
      "Epoch: 0 batch #: 87  of 300 sample #: 199 reconstruction error: 0.082353\n",
      "Epoch: 0 batch #: 88  of 300 sample #: 199 reconstruction error: 0.020008\n",
      "Epoch: 0 batch #: 89  of 300 sample #: 199 reconstruction error: 0.058263\n",
      "Epoch: 0 batch #: 90  of 300 sample #: 199 reconstruction error: 0.077956\n",
      "Epoch: 0 batch #: 91  of 300 sample #: 199 reconstruction error: 0.055139\n",
      "Epoch: 0 batch #: 92  of 300 sample #: 199 reconstruction error: 0.061127\n",
      "Epoch: 0 batch #: 93  of 300 sample #: 199 reconstruction error: 0.110676\n",
      "Epoch: 0 batch #: 94  of 300 sample #: 199 reconstruction error: 0.109268\n",
      "Epoch: 0 batch #: 95  of 300 sample #: 199 reconstruction error: 0.061214\n",
      "Epoch: 0 batch #: 96  of 300 sample #: 199 reconstruction error: 0.065210\n",
      "Epoch: 0 batch #: 97  of 300 sample #: 199 reconstruction error: 0.102194\n",
      "Epoch: 0 batch #: 98  of 300 sample #: 199 reconstruction error: 0.081381\n",
      "Epoch: 0 batch #: 99  of 300 sample #: 199 reconstruction error: 0.069971\n",
      "Epoch: 0 batch #: 100  of 300 sample #: 199 reconstruction error: 0.086984\n",
      "Epoch: 0 batch #: 101  of 300 sample #: 199 reconstruction error: 0.083886\n",
      "Epoch: 0 batch #: 102  of 300 sample #: 199 reconstruction error: 0.078115\n",
      "Epoch: 0 batch #: 103  of 300 sample #: 199 reconstruction error: 0.072427\n",
      "Epoch: 0 batch #: 104  of 300 sample #: 199 reconstruction error: 0.058152\n",
      "Epoch: 0 batch #: 105  of 300 sample #: 199 reconstruction error: 0.068934\n",
      "Epoch: 0 batch #: 106  of 300 sample #: 199 reconstruction error: 0.124199\n",
      "Epoch: 0 batch #: 107  of 300 sample #: 199 reconstruction error: 0.135257\n",
      "Epoch: 0 batch #: 108  of 300 sample #: 199 reconstruction error: 0.055391\n",
      "Epoch: 0 batch #: 109  of 300 sample #: 199 reconstruction error: 0.110500\n",
      "Epoch: 0 batch #: 110  of 300 sample #: 199 reconstruction error: 0.054880\n",
      "Epoch: 0 batch #: 111  of 300 sample #: 199 reconstruction error: 0.095180\n",
      "Epoch: 0 batch #: 112  of 300 sample #: 199 reconstruction error: 0.047518\n",
      "Epoch: 0 batch #: 113  of 300 sample #: 199 reconstruction error: 0.080992\n",
      "Epoch: 0 batch #: 114  of 300 sample #: 199 reconstruction error: 0.063085\n",
      "Epoch: 0 batch #: 115  of 300 sample #: 199 reconstruction error: 0.062542\n",
      "Epoch: 0 batch #: 116  of 300 sample #: 199 reconstruction error: 0.063985\n",
      "Epoch: 0 batch #: 117  of 300 sample #: 199 reconstruction error: 0.035725\n",
      "Epoch: 0 batch #: 118  of 300 sample #: 199 reconstruction error: 0.072910\n",
      "Epoch: 0 batch #: 119  of 300 sample #: 199 reconstruction error: 0.119506\n",
      "Epoch: 0 batch #: 120  of 300 sample #: 199 reconstruction error: 0.086335\n",
      "Epoch: 0 batch #: 121  of 300 sample #: 199 reconstruction error: 0.046564\n",
      "Epoch: 0 batch #: 122  of 300 sample #: 199 reconstruction error: 0.100012\n",
      "Epoch: 0 batch #: 123  of 300 sample #: 199 reconstruction error: 0.068915\n",
      "Epoch: 0 batch #: 124  of 300 sample #: 199 reconstruction error: 0.065171\n",
      "Epoch: 0 batch #: 125  of 300 sample #: 199 reconstruction error: 0.045937\n",
      "Epoch: 0 batch #: 126  of 300 sample #: 199 reconstruction error: 0.089194\n",
      "Epoch: 0 batch #: 127  of 300 sample #: 199 reconstruction error: 0.097173\n",
      "Epoch: 0 batch #: 128  of 300 sample #: 199 reconstruction error: 0.057943\n",
      "Epoch: 0 batch #: 129  of 300 sample #: 199 reconstruction error: 0.052301\n",
      "Epoch: 0 batch #: 130  of 300 sample #: 199 reconstruction error: 0.069892\n",
      "Epoch: 0 batch #: 131  of 300 sample #: 199 reconstruction error: 0.062892\n",
      "Epoch: 0 batch #: 132  of 300 sample #: 199 reconstruction error: 0.055189\n",
      "Epoch: 0 batch #: 133  of 300 sample #: 199 reconstruction error: 0.068680\n",
      "Epoch: 0 batch #: 134  of 300 sample #: 199 reconstruction error: 0.101965\n",
      "Epoch: 0 batch #: 135  of 300 sample #: 199 reconstruction error: 0.090212\n",
      "Epoch: 0 batch #: 136  of 300 sample #: 199 reconstruction error: 0.117976\n",
      "Epoch: 0 batch #: 137  of 300 sample #: 199 reconstruction error: 0.060277\n",
      "Epoch: 0 batch #: 138  of 300 sample #: 199 reconstruction error: 0.087018\n",
      "Epoch: 0 batch #: 139  of 300 sample #: 199 reconstruction error: 0.104808\n",
      "Epoch: 0 batch #: 140  of 300 sample #: 199 reconstruction error: 0.083534\n",
      "Epoch: 0 batch #: 141  of 300 sample #: 199 reconstruction error: 0.065423\n",
      "Epoch: 0 batch #: 142  of 300 sample #: 199 reconstruction error: 0.071095\n",
      "Epoch: 0 batch #: 143  of 300 sample #: 199 reconstruction error: 0.065515\n",
      "Epoch: 0 batch #: 144  of 300 sample #: 199 reconstruction error: 0.068498\n",
      "Epoch: 0 batch #: 145  of 300 sample #: 199 reconstruction error: 0.098819\n",
      "Epoch: 0 batch #: 146  of 300 sample #: 199 reconstruction error: 0.109087\n",
      "Epoch: 0 batch #: 147  of 300 sample #: 199 reconstruction error: 0.065413\n",
      "Epoch: 0 batch #: 148  of 300 sample #: 199 reconstruction error: 0.086534\n",
      "Epoch: 0 batch #: 149  of 300 sample #: 199 reconstruction error: 0.056792\n",
      "Epoch: 0 batch #: 150  of 300 sample #: 199 reconstruction error: 0.047081\n",
      "Epoch: 0 batch #: 151  of 300 sample #: 199 reconstruction error: 0.093846\n",
      "Epoch: 0 batch #: 152  of 300 sample #: 199 reconstruction error: 0.071860\n",
      "Epoch: 0 batch #: 153  of 300 sample #: 199 reconstruction error: 0.061022\n",
      "Epoch: 0 batch #: 154  of 300 sample #: 199 reconstruction error: 0.068145\n",
      "Epoch: 0 batch #: 155  of 300 sample #: 199 reconstruction error: 0.056120\n",
      "Epoch: 0 batch #: 156  of 300 sample #: 199 reconstruction error: 0.063377\n",
      "Epoch: 0 batch #: 157  of 300 sample #: 199 reconstruction error: 0.092574\n",
      "Epoch: 0 batch #: 158  of 300 sample #: 199 reconstruction error: 0.073391\n",
      "Epoch: 0 batch #: 159  of 300 sample #: 199 reconstruction error: 0.065104\n",
      "Epoch: 0 batch #: 160  of 300 sample #: 199 reconstruction error: 0.068077\n",
      "Epoch: 0 batch #: 161  of 300 sample #: 199 reconstruction error: 0.094725\n",
      "Epoch: 0 batch #: 162  of 300 sample #: 199 reconstruction error: 0.105010\n",
      "Epoch: 0 batch #: 163  of 300 sample #: 199 reconstruction error: 0.033004\n",
      "Epoch: 0 batch #: 164  of 300 sample #: 199 reconstruction error: 0.051670\n",
      "Epoch: 0 batch #: 165  of 300 sample #: 199 reconstruction error: 0.083311\n",
      "Epoch: 0 batch #: 166  of 300 sample #: 199 reconstruction error: 0.052267\n",
      "Epoch: 0 batch #: 167  of 300 sample #: 199 reconstruction error: 0.082913\n",
      "Epoch: 0 batch #: 168  of 300 sample #: 199 reconstruction error: 0.059300\n",
      "Epoch: 0 batch #: 169  of 300 sample #: 199 reconstruction error: 0.039752\n",
      "Epoch: 0 batch #: 170  of 300 sample #: 199 reconstruction error: 0.050535\n",
      "Epoch: 0 batch #: 171  of 300 sample #: 199 reconstruction error: 0.029050\n",
      "Epoch: 0 batch #: 172  of 300 sample #: 199 reconstruction error: 0.052012\n",
      "Epoch: 0 batch #: 173  of 300 sample #: 199 reconstruction error: 0.066666\n",
      "Epoch: 0 batch #: 174  of 300 sample #: 199 reconstruction error: 0.105752\n",
      "Epoch: 0 batch #: 175  of 300 sample #: 199 reconstruction error: 0.061674\n",
      "Epoch: 0 batch #: 176  of 300 sample #: 199 reconstruction error: 0.050588\n",
      "Epoch: 0 batch #: 177  of 300 sample #: 199 reconstruction error: 0.036912\n",
      "Epoch: 0 batch #: 178  of 300 sample #: 199 reconstruction error: 0.096462\n",
      "Epoch: 0 batch #: 179  of 300 sample #: 199 reconstruction error: 0.072123\n",
      "Epoch: 0 batch #: 180  of 300 sample #: 199 reconstruction error: 0.089008\n",
      "Epoch: 0 batch #: 181  of 300 sample #: 199 reconstruction error: 0.089340\n",
      "Epoch: 0 batch #: 182  of 300 sample #: 199 reconstruction error: 0.071184\n",
      "Epoch: 0 batch #: 183  of 300 sample #: 199 reconstruction error: 0.102456\n",
      "Epoch: 0 batch #: 184  of 300 sample #: 199 reconstruction error: 0.042425\n",
      "Epoch: 0 batch #: 185  of 300 sample #: 199 reconstruction error: 0.083017\n",
      "Epoch: 0 batch #: 186  of 300 sample #: 199 reconstruction error: 0.109362\n",
      "Epoch: 0 batch #: 187  of 300 sample #: 199 reconstruction error: 0.066402\n",
      "Epoch: 0 batch #: 188  of 300 sample #: 199 reconstruction error: 0.123845\n",
      "Epoch: 0 batch #: 189  of 300 sample #: 199 reconstruction error: 0.083008\n",
      "Epoch: 0 batch #: 190  of 300 sample #: 199 reconstruction error: 0.061207\n",
      "Epoch: 0 batch #: 191  of 300 sample #: 199 reconstruction error: 0.092898\n",
      "Epoch: 0 batch #: 192  of 300 sample #: 199 reconstruction error: 0.125221\n",
      "Epoch: 0 batch #: 193  of 300 sample #: 199 reconstruction error: 0.084446\n",
      "Epoch: 0 batch #: 194  of 300 sample #: 199 reconstruction error: 0.086707\n",
      "Epoch: 0 batch #: 195  of 300 sample #: 199 reconstruction error: 0.049095\n",
      "Epoch: 0 batch #: 196  of 300 sample #: 199 reconstruction error: 0.062189\n",
      "Epoch: 0 batch #: 197  of 300 sample #: 199 reconstruction error: 0.056040\n",
      "Epoch: 0 batch #: 198  of 300 sample #: 199 reconstruction error: 0.110412\n",
      "Epoch: 0 batch #: 199  of 300 sample #: 199 reconstruction error: 0.069655\n",
      "Epoch: 0 batch #: 200  of 300 sample #: 199 reconstruction error: 0.096309\n",
      "Epoch: 0 batch #: 201  of 300 sample #: 199 reconstruction error: 0.088537\n",
      "Epoch: 0 batch #: 202  of 300 sample #: 199 reconstruction error: 0.026207\n",
      "Epoch: 0 batch #: 203  of 300 sample #: 199 reconstruction error: 0.074545\n",
      "Epoch: 0 batch #: 204  of 300 sample #: 199 reconstruction error: 0.047863\n",
      "Epoch: 0 batch #: 205  of 300 sample #: 199 reconstruction error: 0.022341\n",
      "Epoch: 0 batch #: 206  of 300 sample #: 199 reconstruction error: 0.079489\n",
      "Epoch: 0 batch #: 207  of 300 sample #: 199 reconstruction error: 0.086475\n",
      "Epoch: 0 batch #: 208  of 300 sample #: 199 reconstruction error: 0.053025\n",
      "Epoch: 0 batch #: 209  of 300 sample #: 199 reconstruction error: 0.017896\n",
      "Epoch: 0 batch #: 210  of 300 sample #: 199 reconstruction error: 0.091099\n",
      "Epoch: 0 batch #: 211  of 300 sample #: 199 reconstruction error: 0.090469\n",
      "Epoch: 0 batch #: 212  of 300 sample #: 199 reconstruction error: 0.076894\n",
      "Epoch: 0 batch #: 213  of 300 sample #: 199 reconstruction error: 0.099947\n",
      "Epoch: 0 batch #: 214  of 300 sample #: 199 reconstruction error: 0.123117\n",
      "Epoch: 0 batch #: 215  of 300 sample #: 199 reconstruction error: 0.037225\n",
      "Epoch: 0 batch #: 216  of 300 sample #: 199 reconstruction error: 0.084256\n",
      "Epoch: 0 batch #: 217  of 300 sample #: 199 reconstruction error: 0.073203\n",
      "Epoch: 0 batch #: 218  of 300 sample #: 199 reconstruction error: 0.064045\n",
      "Epoch: 0 batch #: 219  of 300 sample #: 199 reconstruction error: 0.093270\n",
      "Epoch: 0 batch #: 220  of 300 sample #: 199 reconstruction error: 0.055729\n",
      "Epoch: 0 batch #: 221  of 300 sample #: 199 reconstruction error: 0.096681\n",
      "Epoch: 0 batch #: 222  of 300 sample #: 199 reconstruction error: 0.086871\n",
      "Epoch: 0 batch #: 223  of 300 sample #: 199 reconstruction error: 0.073643\n",
      "Epoch: 0 batch #: 224  of 300 sample #: 199 reconstruction error: 0.066842\n",
      "Epoch: 0 batch #: 225  of 300 sample #: 199 reconstruction error: 0.068337\n",
      "Epoch: 0 batch #: 226  of 300 sample #: 199 reconstruction error: 0.128628\n",
      "Epoch: 0 batch #: 227  of 300 sample #: 199 reconstruction error: 0.078462\n",
      "Epoch: 0 batch #: 228  of 300 sample #: 199 reconstruction error: 0.063459\n",
      "Epoch: 0 batch #: 229  of 300 sample #: 199 reconstruction error: 0.075129\n",
      "Epoch: 0 batch #: 230  of 300 sample #: 199 reconstruction error: 0.039825\n",
      "Epoch: 0 batch #: 231  of 300 sample #: 199 reconstruction error: 0.024124\n",
      "Epoch: 0 batch #: 232  of 300 sample #: 199 reconstruction error: 0.080798\n",
      "Epoch: 0 batch #: 233  of 300 sample #: 199 reconstruction error: 0.079784\n",
      "Epoch: 0 batch #: 234  of 300 sample #: 199 reconstruction error: 0.070104\n",
      "Epoch: 0 batch #: 235  of 300 sample #: 199 reconstruction error: 0.066319\n",
      "Epoch: 0 batch #: 236  of 300 sample #: 199 reconstruction error: 0.101582\n",
      "Epoch: 0 batch #: 237  of 300 sample #: 199 reconstruction error: 0.068725\n",
      "Epoch: 0 batch #: 238  of 300 sample #: 199 reconstruction error: 0.123839\n",
      "Epoch: 0 batch #: 239  of 300 sample #: 199 reconstruction error: 0.025749\n",
      "Epoch: 0 batch #: 240  of 300 sample #: 199 reconstruction error: 0.092714\n",
      "Epoch: 0 batch #: 241  of 300 sample #: 199 reconstruction error: 0.093500\n",
      "Epoch: 0 batch #: 242  of 300 sample #: 199 reconstruction error: 0.081449\n",
      "Epoch: 0 batch #: 243  of 300 sample #: 199 reconstruction error: 0.063117\n",
      "Epoch: 0 batch #: 244  of 300 sample #: 199 reconstruction error: 0.076356\n",
      "Epoch: 0 batch #: 245  of 300 sample #: 199 reconstruction error: 0.065184\n",
      "Epoch: 0 batch #: 246  of 300 sample #: 199 reconstruction error: 0.075305\n",
      "Epoch: 0 batch #: 247  of 300 sample #: 199 reconstruction error: 0.055634\n",
      "Epoch: 0 batch #: 248  of 300 sample #: 199 reconstruction error: 0.068307\n",
      "Epoch: 0 batch #: 249  of 300 sample #: 199 reconstruction error: 0.046827\n",
      "Epoch: 0 batch #: 250  of 300 sample #: 199 reconstruction error: 0.090217\n",
      "Epoch: 0 batch #: 251  of 300 sample #: 199 reconstruction error: 0.046005\n",
      "Epoch: 0 batch #: 252  of 300 sample #: 199 reconstruction error: 0.066846\n",
      "Epoch: 0 batch #: 253  of 300 sample #: 199 reconstruction error: 0.056245\n",
      "Epoch: 0 batch #: 254  of 300 sample #: 199 reconstruction error: 0.030838\n",
      "Epoch: 0 batch #: 255  of 300 sample #: 199 reconstruction error: 0.051846\n",
      "Epoch: 0 batch #: 256  of 300 sample #: 199 reconstruction error: 0.078135\n",
      "Epoch: 0 batch #: 257  of 300 sample #: 199 reconstruction error: 0.078854\n",
      "Epoch: 0 batch #: 258  of 300 sample #: 199 reconstruction error: 0.094876\n",
      "Epoch: 0 batch #: 259  of 300 sample #: 199 reconstruction error: 0.082756\n",
      "Epoch: 0 batch #: 260  of 300 sample #: 199 reconstruction error: 0.106832\n",
      "Epoch: 0 batch #: 261  of 300 sample #: 199 reconstruction error: 0.031606\n",
      "Epoch: 0 batch #: 262  of 300 sample #: 199 reconstruction error: 0.051777\n",
      "Epoch: 0 batch #: 263  of 300 sample #: 199 reconstruction error: 0.071794\n",
      "Epoch: 0 batch #: 264  of 300 sample #: 199 reconstruction error: 0.083733\n",
      "Epoch: 0 batch #: 265  of 300 sample #: 199 reconstruction error: 0.069923\n",
      "Epoch: 0 batch #: 266  of 300 sample #: 199 reconstruction error: 0.032502\n",
      "Epoch: 0 batch #: 267  of 300 sample #: 199 reconstruction error: 0.062854\n",
      "Epoch: 0 batch #: 268  of 300 sample #: 199 reconstruction error: 0.028296\n",
      "Epoch: 0 batch #: 269  of 300 sample #: 199 reconstruction error: 0.085387\n",
      "Epoch: 0 batch #: 270  of 300 sample #: 199 reconstruction error: 0.077930\n",
      "Epoch: 0 batch #: 271  of 300 sample #: 199 reconstruction error: 0.054997\n",
      "Epoch: 0 batch #: 272  of 300 sample #: 199 reconstruction error: 0.063281\n",
      "Epoch: 0 batch #: 273  of 300 sample #: 199 reconstruction error: 0.053587\n",
      "Epoch: 0 batch #: 274  of 300 sample #: 199 reconstruction error: 0.042517\n",
      "Epoch: 0 batch #: 275  of 300 sample #: 199 reconstruction error: 0.097200\n",
      "Epoch: 0 batch #: 276  of 300 sample #: 199 reconstruction error: 0.077928\n",
      "Epoch: 0 batch #: 277  of 300 sample #: 199 reconstruction error: 0.079522\n",
      "Epoch: 0 batch #: 278  of 300 sample #: 199 reconstruction error: 0.064667\n",
      "Epoch: 0 batch #: 279  of 300 sample #: 199 reconstruction error: 0.050636\n",
      "Epoch: 0 batch #: 280  of 300 sample #: 199 reconstruction error: 0.075403\n",
      "Epoch: 0 batch #: 281  of 300 sample #: 199 reconstruction error: 0.077705\n",
      "Epoch: 0 batch #: 282  of 300 sample #: 199 reconstruction error: 0.112404\n",
      "Epoch: 0 batch #: 283  of 300 sample #: 199 reconstruction error: 0.043765\n",
      "Epoch: 0 batch #: 284  of 300 sample #: 199 reconstruction error: 0.060576\n",
      "Epoch: 0 batch #: 285  of 300 sample #: 199 reconstruction error: 0.064530\n",
      "Epoch: 0 batch #: 286  of 300 sample #: 199 reconstruction error: 0.070934\n",
      "Epoch: 0 batch #: 287  of 300 sample #: 199 reconstruction error: 0.065432\n",
      "Epoch: 0 batch #: 288  of 300 sample #: 199 reconstruction error: 0.026987\n",
      "Epoch: 0 batch #: 289  of 300 sample #: 199 reconstruction error: 0.085477\n",
      "Epoch: 0 batch #: 290  of 300 sample #: 199 reconstruction error: 0.103491\n",
      "Epoch: 0 batch #: 291  of 300 sample #: 199 reconstruction error: 0.113040\n",
      "Epoch: 0 batch #: 292  of 300 sample #: 199 reconstruction error: 0.076700\n",
      "Epoch: 0 batch #: 293  of 300 sample #: 199 reconstruction error: 0.064658\n",
      "Epoch: 0 batch #: 294  of 300 sample #: 199 reconstruction error: 0.095486\n",
      "Epoch: 0 batch #: 295  of 300 sample #: 199 reconstruction error: 0.064863\n",
      "Epoch: 0 batch #: 296  of 300 sample #: 199 reconstruction error: 0.023897\n",
      "Epoch: 0 batch #: 297  of 300 sample #: 199 reconstruction error: 0.124635\n",
      "Epoch: 0 batch #: 298  of 300 sample #: 199 reconstruction error: 0.057134\n",
      "Epoch: 0 batch #: 299  of 300 sample #: 199 reconstruction error: 0.043058\n",
      "Epoch: 0 batch #: 300  of 300 sample #: 199 reconstruction error: 0.081659\n"
     ]
    }
   ],
   "source": [
    "#Parameters\n",
    "alpha = 0.01\n",
    "epochs = 1\n",
    "batchsize = 200\n",
    "weights = []\n",
    "errors = []\n",
    "batch_number = 0\n",
    "K = 1\n",
    "\n",
    "#creating datasets\n",
    "train_ds = \\\n",
    "    tf.data.Dataset.from_tensor_slices((trX, trY)).batch(batchsize)\n",
    "\n",
    "for epoch in range(epochs):\n",
    "    for batch_x, batch_y in train_ds:\n",
    "        batch_number += 1\n",
    "        for i_sample in range(batchsize):           \n",
    "            for k in range(K):\n",
    "                v0_state = batch_x[i_sample]\n",
    "                h0_state = hidden_layer(v0_state, W, hb)\n",
    "                v1_state = reconstructed_output(h0_state, W, vb)\n",
    "                h1_state = hidden_layer(v1_state, W, hb)\n",
    "\n",
    "                delta_W = tf.matmul(tf.transpose([v0_state]), h0_state) - tf.matmul(tf.transpose([v1_state]), h1_state)\n",
    "                W = W + alpha * delta_W\n",
    "\n",
    "                vb = vb + alpha * tf.reduce_mean(v0_state - v1_state, 0)\n",
    "                hb = hb + alpha * tf.reduce_mean(h0_state - h1_state, 0) \n",
    "\n",
    "                v0_state = v1_state\n",
    "\n",
    "            if i_sample == batchsize-1:\n",
    "                err = error(batch_x[i_sample], v1_state)\n",
    "                errors.append(err)\n",
    "                weights.append(W)\n",
    "                print ( 'Epoch: %d' % epoch, \n",
    "                       \"batch #: %i \" % batch_number, \"of %i\" % int(60e3/batchsize), \n",
    "                       \"sample #: %i\" % i_sample,\n",
    "                       'reconstruction error: %f' % err)\n",
    "\n"
   ]
  },
  {
   "cell_type": "markdown",
   "metadata": {},
   "source": [
    "Let's take a look at the errors at the end of each batch:\n"
   ]
  },
  {
   "cell_type": "code",
   "execution_count": 20,
   "metadata": {},
   "outputs": [
    {
     "data": {
      "image/png": "[encoded data removed]",
      "text/plain": [
       "<Figure size 640x480 with 1 Axes>"
      ]
     },
     "metadata": {},
     "output_type": "display_data"
    }
   ],
   "source": [
    "plt.plot(errors)\n",
    "plt.xlabel(\"Batch Number\")\n",
    "plt.ylabel(\"Error\")\n",
    "plt.show()"
   ]
  },
  {
   "cell_type": "markdown",
   "metadata": {},
   "source": [
    "What is the final weight matrix $W$ after training?\n"
   ]
  },
  {
   "cell_type": "code",
   "execution_count": 21,
   "metadata": {},
   "outputs": [
    {
     "name": "stdout",
     "output_type": "stream",
     "text": [
      "[[-0.44999984 -0.43999985 -0.43999985 ... -0.26000002 -0.25000003\n",
      "  -0.29      ]\n",
      " [-0.42999986 -0.3799999  -0.36999992 ... -0.34999993 -0.27\n",
      "  -0.33999994]\n",
      " [-0.43999985 -0.4799998  -0.43999985 ... -0.30999997 -0.26000002\n",
      "  -0.31999996]\n",
      " ...\n",
      " [-0.45999983 -0.43999985 -0.42999986 ... -0.33999994 -0.21000002\n",
      "  -0.3899999 ]\n",
      " [-0.43999985 -0.40999988 -0.42999986 ... -0.29999998 -0.25000003\n",
      "  -0.34999993]\n",
      " [-0.4999998  -0.41999987 -0.41999987 ... -0.24000004 -0.27\n",
      "  -0.29      ]]\n"
     ]
    }
   ],
   "source": [
    "print(W.numpy()) # a weight matrix of shape (50,784)"
   ]
  },
  {
   "cell_type": "markdown",
   "metadata": {},
   "source": [
    "<a id=\"ref5\"></a>\n",
    "<h3>Learned features</h3> \n"
   ]
  },
  {
   "cell_type": "markdown",
   "metadata": {},
   "source": [
    "We can take each hidden unit and visualize the connections between that hidden unit and each element in the input vector. In our case, we have 50 hidden units. Lets visualize those.\n"
   ]
  },
  {
   "cell_type": "markdown",
   "metadata": {},
   "source": [
    "Let's plot the current weights:\n",
    "<b>tile_raster_images</b> helps in generating an easy to grasp image from a set of samples or weights. It transforms the <b>uw</b> (with one flattened image per row of size 784), into an array (of size $28\\times28$) in which images are reshaped and laid out like tiles on a floor.\n"
   ]
  },
  {
   "cell_type": "code",
   "execution_count": 22,
   "metadata": {},
   "outputs": [
    {
     "data": {
      "image/png": "[encoded data removed]",
      "text/plain": [
       "<Figure size 1800x1800 with 1 Axes>"
      ]
     },
     "metadata": {},
     "output_type": "display_data"
    }
   ],
   "source": [
    "tile_raster_images(X=W.numpy().T, img_shape=(28, 28), tile_shape=(5, 10), tile_spacing=(1, 1))\n",
    "import matplotlib.pyplot as plt\n",
    "from PIL import Image\n",
    "%matplotlib inline\n",
    "image = Image.fromarray(tile_raster_images(X=W.numpy().T, img_shape=(28, 28) ,tile_shape=(5, 10), tile_spacing=(1, 1)))\n",
    "### Plot image\n",
    "plt.rcParams['figure.figsize'] = (18.0, 18.0)\n",
    "imgplot = plt.imshow(image)\n",
    "imgplot.set_cmap('gray')  "
   ]
  },
  {
   "cell_type": "markdown",
   "metadata": {},
   "source": [
    "Each tile in the above visualization corresponds to a vector of connections between a hidden unit and visible layer's units. \n"
   ]
  },
  {
   "cell_type": "markdown",
   "metadata": {},
   "source": [
    "Let's look at one of the learned weights corresponding to one of hidden units for example. In this particular square, the gray color represents weight = 0, and the whiter it is, the more positive the weights are (closer to 1). Conversely, the darker pixels are, the more negative the weights. The positive pixels will increase the probability of activation in hidden units (after multiplying by input/visible pixels), and negative pixels will decrease the probability of a unit hidden to be 1 (activated). So, why is this important?  So we can see that this specific square (hidden unit) can detect a feature (e.g. a \"/\" shape) and if it exists in the input.\n"
   ]
  },
  {
   "cell_type": "code",
   "execution_count": 23,
   "metadata": {},
   "outputs": [
    {
     "data": {
      "image/png": "[encoded data removed]",
      "text/plain": [
       "<Figure size 400x400 with 1 Axes>"
      ]
     },
     "metadata": {},
     "output_type": "display_data"
    }
   ],
   "source": [
    "from PIL import Image\n",
    "image = Image.fromarray(tile_raster_images(X =W.numpy().T[10:11], img_shape=(28, 28),tile_shape=(1, 1), tile_spacing=(1, 1)))\n",
    "### Plot image\n",
    "plt.rcParams['figure.figsize'] = (4.0, 4.0)\n",
    "imgplot = plt.imshow(image)\n",
    "imgplot.set_cmap('gray')  "
   ]
  },
  {
   "cell_type": "markdown",
   "metadata": {},
   "source": [
    "Let's look at the reconstruction of an image now. Imagine that we have a destructed image of figure 3. Lets see if our trained network can fix it:\n",
    "\n",
    "First we plot the image:\n"
   ]
  },
  {
   "cell_type": "code",
   "execution_count": 24,
   "metadata": {},
   "outputs": [
    {
     "name": "stdout",
     "output_type": "stream",
     "text": [
      "--2024-07-03 06:28:06--  https://ibm.box.com/shared/static/vvm1b63uvuxq88vbw9znpwu5ol380mco.jpg\n",
      "Resolving ibm.box.com (ibm.box.com)... 74.112.186.144, 74.112.186.144\n",
      "Connecting to ibm.box.com (ibm.box.com)|74.112.186.144|:443... connected.\n",
      "HTTP request sent, awaiting response... 301 Moved Permanently\n",
      "Location: /public/static/vvm1b63uvuxq88vbw9znpwu5ol380mco.jpg [following]\n",
      "--2024-07-03 06:28:06--  https://ibm.box.com/public/static/vvm1b63uvuxq88vbw9znpwu5ol380mco.jpg\n",
      "Reusing existing connection to ibm.box.com:443.\n",
      "HTTP request sent, awaiting response... 301 Moved Permanently\n",
      "Location: https://ibm.ent.box.com/public/static/vvm1b63uvuxq88vbw9znpwu5ol380mco.jpg [following]\n",
      "--2024-07-03 06:28:07--  https://ibm.ent.box.com/public/static/vvm1b63uvuxq88vbw9znpwu5ol380mco.jpg\n",
      "Resolving ibm.ent.box.com (ibm.ent.box.com)... 74.112.186.144, 74.112.186.144\n",
      "Connecting to ibm.ent.box.com (ibm.ent.box.com)|74.112.186.144|:443... connected.\n",
      "HTTP request sent, awaiting response... 302 Found\n",
      "Location: https://public.boxcloud.com/d/1/b1!LsEsMPRihDz0yN02kVWNmHfHvKitf0HD6g80LgqEngGiPyR_opePDETnwoxVxeB9hNKLlhJPKTUocMWE6gTroUZ4_KY7PC1rq7pMyt5YBVWCXLtVQlPgTvr6F0EUE4bqcG7ErpWWicK_LiN7gru8c0mI8uTNz0UuTptNiSGwD_THYw_Oit_yQ3GGJZrdHfvkKNpNz_1WwYHtaXxNv4D6sWHF8P8QwaBbB_5Qf_wF9JSQ3F1pFVhv6nDKHitkR2dH09nKxugFPEaY8fdJF868dvTldsphU19OUYJSK3z-fYeddDajjBRleCwuha0BU-j3TfYCT8YdI5jrOIwHLnlYiUPwqyzYSLW4OZB8ieifMRT8sDHq8BAyio3_bQOTk2k7jLAJ9InViS23yGZC3OGLfEDdZGAQ-rPoSD9a84dJ44giqS0pVYET13Z0RLPMU7fRSEULH3QiPoFeoe_EsL0dgT0NHeN6n5V6_UYWSKagcSvdo0rrhTEE_VrA3j5nKN_Caz6kIc4NBQCLmQRnu4mgVnuXqB0XsPuX0gZRGq1MzSl1zQfjEkmaEnkc4W-o-vKE-cKX3WaEKsr2mwZQ3cv3yeu0Zw0CPu8Jb0RQtk9ky6XceNkHngCVIACgcNMBokZlUIUrz_r0RcFQkayXJ2c6YwKLFe3nywkHUlUP2M8nHqrgS3vWm5-006S-j8kcYivLNZwKj1pdBGoV4O4YodJyFldnwmTAH3JmPsZuPl8mmENqVVBc4EfQW98PmEebfJMsoV68L6NYhpPKwY1KWzBrideiTulhR5ajGiP2WbRjpMvM6RJiDlzA9uOW_Uut_qX-rYHNsLb2lqmIch3X4m7i9OB1Gcl1o213xlBsRv6MfVEX3sY2lLyb0hjO6Hl3gzJQJvuSxCqsE-atgeidLUrpXrIhCGVMeagbPwCbWjX7Wyvc-82sqiZyeeyBF_N9Lgt108B8gdveLGgBs9Zdd8IcnyOR3cNvmDCo_-YkwvodVgCnx_gE8oRrp59REmQH8FHHeFomEbaPJ70RRc-wlKMy3Ywfj3QbYsZSzMlWl9bCjJAm0PKm8iLJVewCjLhXShq0qAit46CuwAwSeuTGVtqPQN9aUeUJz6r-iGqzyUXiQfSC6nwZ4kU3wb3jTOgHuHnkZZldcZHy3Rp0n7fL75g581XvdjT_8EldkP9fDW4-Cnd91PfLiVk1yd-2qskBdUz7T-8fxMzcmZOlg983vZqZkyoPX-j2zWg1xHhzoy2zur5ZTapzQnVIM-bUbC51MOrk_yopX-DqyNk8Z-aIx-Dz8lWC3HBkBN2CoSkAFvZduRR6jofLyOoRiK_17yCeYA1Xvg2cmKEs1M4P8Rx6hrnKDwAhQ3LmM2kRJb5sQ8DgzJHUehmIxypZJi3Mizogmgi5Jsgf21Kkr-FVpsAJ/download [following]\n",
      "--2024-07-03 06:28:08--  https://public.boxcloud.com/d/1/b1!LsEsMPRihDz0yN02kVWNmHfHvKitf0HD6g80LgqEngGiPyR_opePDETnwoxVxeB9hNKLlhJPKTUocMWE6gTroUZ4_KY7PC1rq7pMyt5YBVWCXLtVQlPgTvr6F0EUE4bqcG7ErpWWicK_LiN7gru8c0mI8uTNz0UuTptNiSGwD_THYw_Oit_yQ3GGJZrdHfvkKNpNz_1WwYHtaXxNv4D6sWHF8P8QwaBbB_5Qf_wF9JSQ3F1pFVhv6nDKHitkR2dH09nKxugFPEaY8fdJF868dvTldsphU19OUYJSK3z-fYeddDajjBRleCwuha0BU-j3TfYCT8YdI5jrOIwHLnlYiUPwqyzYSLW4OZB8ieifMRT8sDHq8BAyio3_bQOTk2k7jLAJ9InViS23yGZC3OGLfEDdZGAQ-rPoSD9a84dJ44giqS0pVYET13Z0RLPMU7fRSEULH3QiPoFeoe_EsL0dgT0NHeN6n5V6_UYWSKagcSvdo0rrhTEE_VrA3j5nKN_Caz6kIc4NBQCLmQRnu4mgVnuXqB0XsPuX0gZRGq1MzSl1zQfjEkmaEnkc4W-o-vKE-cKX3WaEKsr2mwZQ3cv3yeu0Zw0CPu8Jb0RQtk9ky6XceNkHngCVIACgcNMBokZlUIUrz_r0RcFQkayXJ2c6YwKLFe3nywkHUlUP2M8nHqrgS3vWm5-006S-j8kcYivLNZwKj1pdBGoV4O4YodJyFldnwmTAH3JmPsZuPl8mmENqVVBc4EfQW98PmEebfJMsoV68L6NYhpPKwY1KWzBrideiTulhR5ajGiP2WbRjpMvM6RJiDlzA9uOW_Uut_qX-rYHNsLb2lqmIch3X4m7i9OB1Gcl1o213xlBsRv6MfVEX3sY2lLyb0hjO6Hl3gzJQJvuSxCqsE-atgeidLUrpXrIhCGVMeagbPwCbWjX7Wyvc-82sqiZyeeyBF_N9Lgt108B8gdveLGgBs9Zdd8IcnyOR3cNvmDCo_-YkwvodVgCnx_gE8oRrp59REmQH8FHHeFomEbaPJ70RRc-wlKMy3Ywfj3QbYsZSzMlWl9bCjJAm0PKm8iLJVewCjLhXShq0qAit46CuwAwSeuTGVtqPQN9aUeUJz6r-iGqzyUXiQfSC6nwZ4kU3wb3jTOgHuHnkZZldcZHy3Rp0n7fL75g581XvdjT_8EldkP9fDW4-Cnd91PfLiVk1yd-2qskBdUz7T-8fxMzcmZOlg983vZqZkyoPX-j2zWg1xHhzoy2zur5ZTapzQnVIM-bUbC51MOrk_yopX-DqyNk8Z-aIx-Dz8lWC3HBkBN2CoSkAFvZduRR6jofLyOoRiK_17yCeYA1Xvg2cmKEs1M4P8Rx6hrnKDwAhQ3LmM2kRJb5sQ8DgzJHUehmIxypZJi3Mizogmgi5Jsgf21Kkr-FVpsAJ/download\n",
      "Resolving public.boxcloud.com (public.boxcloud.com)... 74.112.186.130, 74.112.186.130\n",
      "Connecting to public.boxcloud.com (public.boxcloud.com)|74.112.186.130|:443... connected.\n",
      "HTTP request sent, awaiting response... 200 OK\n",
      "Length: 24383 (24K) [image/jpeg]\n",
      "Saving to: ‘destructed3.jpg’\n",
      "\n",
      "destructed3.jpg     100%[===================>]  23.81K  --.-KB/s    in 0.001s  \n",
      "\n",
      "2024-07-03 06:28:08 (15.9 MB/s) - ‘destructed3.jpg’ saved [24383/24383]\n",
      "\n"
     ]
    },
    {
     "data": {
      "image/png": "[encoded data removed]",
      "text/plain": [
       "<PIL.JpegImagePlugin.JpegImageFile image mode=RGB size=181x181 at 0x7F23C9C9DD50>"
      ]
     },
     "execution_count": 24,
     "metadata": {},
     "output_type": "execute_result"
    }
   ],
   "source": [
    "!wget -O destructed3.jpg  https://ibm.box.com/shared/static/vvm1b63uvuxq88vbw9znpwu5ol380mco.jpg\n",
    "img = Image.open('destructed3.jpg')\n",
    "img"
   ]
  },
  {
   "cell_type": "markdown",
   "metadata": {},
   "source": [
    "Now let's pass this image through the neural net:\n"
   ]
  },
  {
   "cell_type": "code",
   "execution_count": 25,
   "metadata": {},
   "outputs": [],
   "source": [
    "# convert the image to a 1d numpy array\n",
    "sample_case = np.array(img.convert('I').resize((28,28))).ravel().reshape((1, -1))/255.0\n",
    "\n",
    "sample_case = tf.cast(sample_case, dtype=tf.float32)"
   ]
  },
  {
   "cell_type": "markdown",
   "metadata": {},
   "source": [
    "Feed the sample case into the network and reconstruct the output:\n"
   ]
  },
  {
   "cell_type": "code",
   "execution_count": 26,
   "metadata": {},
   "outputs": [
    {
     "name": "stdout",
     "output_type": "stream",
     "text": [
      "Probability nodes in hidden layer: tf.Tensor(\n",
      "[[5.81138171e-02 7.19215125e-02 9.78945374e-01 1.00000000e+00\n",
      "  5.54390289e-02 9.99965787e-01 9.99990761e-01 3.85222534e-13\n",
      "  2.20931150e-04 1.00000000e+00 1.93100039e-13 3.28770657e-05\n",
      "  3.74534785e-08 1.00000000e+00 2.50197645e-05 9.99998152e-01\n",
      "  8.54656935e-01 4.06401250e-06 9.99999642e-01 1.69975846e-03\n",
      "  1.49859421e-04 1.41816004e-03 1.18824495e-02 1.26728264e-06\n",
      "  4.51923113e-13 7.92008638e-02 5.21772024e-13 3.32409237e-03\n",
      "  1.77942591e-10 1.00000000e+00 3.42681759e-08 8.63314131e-09\n",
      "  7.39159020e-07 1.36729184e-07 8.03268398e-04 9.64052916e-01\n",
      "  9.99999762e-01 2.16051117e-01 1.63846157e-14 3.65322950e-09\n",
      "  9.45164255e-16 9.99999762e-01 9.54491545e-14 2.70801330e-16\n",
      "  5.11827807e-07 9.84477779e-08 4.51234314e-07 7.06075109e-04\n",
      "  9.99999702e-01 2.00099817e-06]], shape=(1, 50), dtype=float32)\n",
      "activated nodes in hidden layer: tf.Tensor(\n",
      "[[0. 0. 1. 1. 0. 1. 1. 0. 0. 1. 0. 0. 0. 1. 0. 1. 1. 0. 1. 0. 0. 0. 0. 0.\n",
      "  0. 0. 0. 0. 0. 1. 0. 0. 0. 0. 0. 1. 1. 0. 0. 0. 0. 1. 0. 0. 0. 0. 0. 0.\n",
      "  1. 0.]], shape=(1, 50), dtype=float32)\n",
      "tf.Tensor(\n",
      "[[7.18314841e-04 6.30803814e-04 6.56530494e-04 5.53948514e-04\n",
      "  4.18721815e-04 6.37139368e-04 5.70809469e-04 6.37139368e-04\n",
      "  4.62739175e-04 5.26946271e-04 7.25528516e-04 5.88182884e-04\n",
      "  6.50027767e-04 6.11596683e-04 4.62412892e-04 5.44328184e-04\n",
      "  5.11380960e-04 6.50002330e-04 1.07122038e-03 5.59512526e-04\n",
      "  5.42985799e-04 5.53948805e-04 6.76511147e-04 7.93800224e-04\n",
      "  4.81614843e-04 8.51307996e-04 8.34465027e-04 7.04100879e-04\n",
      "  8.77211685e-04 6.76511147e-04 5.42985799e-04 5.42985566e-04\n",
      "  7.35577079e-04 5.77696541e-04 5.54035651e-04 4.98614740e-04\n",
      "  4.34626185e-04 7.47022161e-04 1.30271446e-03 1.06273720e-03\n",
      "  1.03386922e-03 4.72305517e-04 7.35606882e-04 7.66143843e-04\n",
      "  1.20626343e-03 6.59730285e-04 7.19779870e-04 8.65909271e-04\n",
      "  6.93992944e-04 7.44100194e-04 6.27327943e-04 7.10253371e-04\n",
      "  4.58136870e-04 6.30804105e-04 6.00057479e-04 3.78890487e-04\n",
      "  5.76542225e-04 4.81614610e-04 8.55622115e-04 5.99306193e-04\n",
      "  7.72050407e-04 5.67197043e-04 6.01989683e-04 7.25500635e-04\n",
      "  5.38219290e-04 3.84999992e-04 5.85470232e-04 3.64912237e-04\n",
      "  2.48826051e-04 2.12559593e-04 1.86265897e-04 2.41228205e-04\n",
      "  2.04467913e-04 1.13130664e-04 1.81714480e-04 1.10071516e-04\n",
      "  3.23129236e-04 4.16512776e-04 8.45459290e-04 6.77042641e-04\n",
      "  7.00029370e-04 6.33554300e-04 6.18320832e-04 5.88182884e-04\n",
      "  6.00058062e-04 4.76824876e-04 5.37712360e-04 8.86506168e-04\n",
      "  5.84735419e-04 7.14861031e-04 8.35481158e-04 8.27661774e-04\n",
      "  5.41926420e-04 8.69079551e-04 4.78384376e-04 7.81645707e-04\n",
      "  1.08402246e-03 7.05136394e-04 1.74735149e-03 1.91205333e-03\n",
      "  3.12778656e-03 4.04358329e-03 3.34633072e-03 2.95145507e-03\n",
      "  1.33510947e-03 7.34862057e-04 4.60443523e-04 5.94255573e-04\n",
      "  7.10365362e-04 1.10697048e-03 3.33174568e-04 5.26946504e-04\n",
      "  5.65132941e-04 5.92834549e-04 5.67953044e-04 8.76593287e-04\n",
      "  7.42410659e-04 1.73838343e-03 1.65848038e-03 1.39388524e-03\n",
      "  1.12121331e-03 2.63999146e-03 2.04312755e-03 4.73483419e-03\n",
      "  8.29527713e-03 2.58988887e-02 4.42178696e-02 1.16234750e-01\n",
      "  8.73228684e-02 1.64650306e-01 1.81662858e-01 6.39461353e-02\n",
      "  3.66474204e-02 2.07680929e-02 7.03690667e-03 4.43734927e-03\n",
      "  2.26312224e-03 1.65672379e-03 9.93019901e-04 7.29633670e-04\n",
      "  6.00057479e-04 5.88182593e-04 7.23455974e-04 1.09798554e-03\n",
      "  1.95583166e-03 2.61436938e-03 2.37536733e-03 2.80201668e-03\n",
      "  9.34180617e-03 1.43774636e-02 3.30838300e-02 7.88397864e-02\n",
      "  3.30345482e-01 5.61730325e-01 8.19334626e-01 9.46051061e-01\n",
      "  9.46929097e-01 9.19111013e-01 8.48561704e-01 6.03038847e-01\n",
      "  3.85206074e-01 1.34115517e-01 8.32758024e-02 1.38164321e-02\n",
      "  2.03272002e-03 1.70468679e-03 2.06736219e-03 5.12223691e-04\n",
      "  5.42985566e-04 9.26673471e-04 6.50308095e-04 3.24631669e-03\n",
      "  2.81515508e-03 6.92087878e-03 1.10880388e-02 1.34602748e-02\n",
      "  2.31769010e-02 1.05678938e-01 1.91285998e-01 5.50539970e-01\n",
      "  8.84500444e-01 9.26499426e-01 9.41681504e-01 9.69632983e-01\n",
      "  9.64673877e-01 9.45870519e-01 8.89642060e-01 9.07434940e-01\n",
      "  7.13680208e-01 3.65865439e-01 1.36844352e-01 1.97710525e-02\n",
      "  2.50077457e-03 1.35751138e-03 1.97839364e-03 7.81118521e-04\n",
      "  4.96800116e-04 5.25668263e-04 8.93270248e-04 5.07969223e-03\n",
      "  1.06429616e-02 2.22058557e-02 3.94532718e-02 3.23298313e-02\n",
      "  1.60353765e-01 4.08778220e-01 6.09371841e-01 8.30284178e-01\n",
      "  8.88320208e-01 9.22605813e-01 8.87445509e-01 7.72218168e-01\n",
      "  6.18120015e-01 6.15861654e-01 5.26842177e-01 7.79828906e-01\n",
      "  8.53032649e-01 6.28073752e-01 1.75610542e-01 9.57891811e-03\n",
      "  2.06447486e-03 4.82052506e-04 1.09061587e-03 8.41327303e-04\n",
      "  5.99752238e-04 5.73725672e-04 1.05816766e-03 3.66214430e-03\n",
      "  1.02956593e-02 1.29728531e-02 4.56927158e-02 9.17755440e-02\n",
      "  1.43350154e-01 2.23561183e-01 5.46490133e-01 8.13487887e-01\n",
      "  6.92819297e-01 4.47044671e-01 2.12473810e-01 6.96790442e-02\n",
      "  5.21851555e-02 7.18630999e-02 2.95269489e-01 7.85052598e-01\n",
      "  8.72544467e-01 7.95998096e-01 2.37213343e-01 6.30759774e-03\n",
      "  1.14298949e-03 4.86189383e-04 7.55325018e-04 8.80552980e-04\n",
      "  4.47242346e-04 1.05246075e-03 1.19722774e-03 2.97693000e-03\n",
      "  7.16045685e-03 2.36907955e-02 4.04263623e-02 7.06379786e-02\n",
      "  3.70459445e-02 1.22174911e-01 3.10598969e-01 4.47134912e-01\n",
      "  1.87891811e-01 6.09547906e-02 3.85222472e-02 1.08925374e-02\n",
      "  2.40921900e-02 1.84056878e-01 4.93558109e-01 8.67338002e-01\n",
      "  8.92904818e-01 7.00620770e-01 1.84412271e-01 7.90737383e-03\n",
      "  1.35529903e-03 1.28156925e-03 1.18444860e-03 8.35381914e-04\n",
      "  7.64643948e-04 1.12423045e-03 1.32530776e-03 1.79932197e-03\n",
      "  5.50369639e-03 1.35847945e-02 9.97271761e-03 1.69612039e-02\n",
      "  2.04436556e-02 6.49994090e-02 7.55894631e-02 5.42114899e-02\n",
      "  4.51576374e-02 5.15432470e-02 3.02998330e-02 9.69423950e-02\n",
      "  3.28326017e-01 5.59833884e-01 9.23618674e-01 9.17362273e-01\n",
      "  8.96585584e-01 6.79070771e-01 9.71503779e-02 6.63356110e-03\n",
      "  9.08455462e-04 1.25023327e-03 1.49519974e-03 6.52580464e-04\n",
      "  4.76675545e-04 1.02990703e-03 1.91515440e-03 2.49321619e-03\n",
      "  7.64732528e-03 1.49875367e-02 1.94799937e-02 1.27556687e-02\n",
      "  1.00543611e-02 2.08522100e-02 2.76337247e-02 3.10156308e-02\n",
      "  1.17485881e-01 3.82021934e-01 4.86269444e-01 6.72472239e-01\n",
      "  8.60912323e-01 9.51776743e-01 9.36748207e-01 9.49277103e-01\n",
      "  8.07200789e-01 2.35101908e-01 2.06467602e-02 1.83792249e-03\n",
      "  6.49296213e-04 1.77698850e-03 1.17893703e-03 5.63827693e-04\n",
      "  4.98087029e-04 7.42964447e-04 1.69026724e-03 2.14760308e-03\n",
      "  7.25498144e-03 1.10795246e-02 1.35553572e-02 8.25353805e-03\n",
      "  1.36658633e-02 2.69414168e-02 6.57610744e-02 2.17209414e-01\n",
      "  6.23817742e-01 8.26368809e-01 9.46708202e-01 9.35537875e-01\n",
      "  9.67899442e-01 9.44204152e-01 9.09875989e-01 8.45478654e-01\n",
      "  5.19521117e-01 8.98796022e-02 1.34217944e-02 4.72683198e-04\n",
      "  2.33266823e-04 7.16658076e-04 8.62862275e-04 7.69513659e-04\n",
      "  4.36367467e-04 6.92200498e-04 1.41321751e-03 2.07921071e-03\n",
      "  4.43230523e-03 8.87023192e-03 9.17253457e-03 8.06711148e-03\n",
      "  2.04172600e-02 5.19091636e-02 1.75144315e-01 4.86242205e-01\n",
      "  8.55628669e-01 9.31022704e-01 9.10706162e-01 9.23971057e-01\n",
      "  9.58791494e-01 9.14816141e-01 8.02973390e-01 7.00266719e-01\n",
      "  2.80057043e-01 4.94666547e-02 6.25364855e-03 6.61835540e-04\n",
      "  3.04750109e-04 1.17622025e-03 1.07239711e-03 8.16578162e-04\n",
      "  7.89302867e-04 7.49103376e-04 1.17805926e-03 3.37268156e-03\n",
      "  6.32277410e-03 9.93759185e-03 1.02167958e-02 1.14300735e-02\n",
      "  1.85931288e-02 7.39620477e-02 1.80581704e-01 5.73907912e-01\n",
      "  7.31789947e-01 7.01021016e-01 7.11953342e-01 7.07959116e-01\n",
      "  7.44704843e-01 8.26795995e-01 5.47336519e-01 4.62991774e-01\n",
      "  2.52556652e-01 5.19571342e-02 2.58949236e-03 4.03781858e-04\n",
      "  1.97093847e-04 5.46617899e-04 6.27279282e-04 5.50701923e-04\n",
      "  7.99356261e-04 8.23583105e-04 7.84493284e-04 4.24762722e-03\n",
      "  1.31401736e-02 1.63434781e-02 1.80772208e-02 2.03636531e-02\n",
      "  4.37720604e-02 4.67645004e-02 1.19843356e-01 2.30227083e-01\n",
      "  3.80268604e-01 3.05498749e-01 1.99121773e-01 2.93375075e-01\n",
      "  3.08609247e-01 4.61215496e-01 6.09753728e-01 3.61890256e-01\n",
      "  1.34502903e-01 2.17630006e-02 5.14578586e-03 4.94862848e-04\n",
      "  2.80480395e-04 3.12123855e-04 5.65887254e-04 5.10720478e-04\n",
      "  3.27476562e-04 6.46370172e-04 1.70595467e-03 7.85570405e-03\n",
      "  3.32704410e-02 3.44921015e-02 4.04325239e-02 4.11747582e-02\n",
      "  6.47704005e-02 7.39791468e-02 1.83483452e-01 1.23859480e-01\n",
      "  1.19457014e-01 3.88461463e-02 4.72991727e-02 1.45690501e-01\n",
      "  3.47947598e-01 6.52262926e-01 4.46395040e-01 2.85797119e-01\n",
      "  7.44602531e-02 2.10003369e-02 6.60752226e-03 1.08228833e-03\n",
      "  6.20222476e-04 5.15548920e-04 1.22440059e-03 4.98360547e-04\n",
      "  6.12172356e-04 5.26533811e-04 2.19861371e-03 2.70576645e-02\n",
      "  1.08023807e-01 6.68914616e-02 4.94586602e-02 5.64548858e-02\n",
      "  7.18721449e-02 1.26107812e-01 1.03262030e-01 1.26037002e-01\n",
      "  3.85869890e-02 1.64349843e-02 4.12975587e-02 1.55299142e-01\n",
      "  3.38736504e-01 4.73546535e-01 5.64842522e-01 1.96048737e-01\n",
      "  7.51847401e-02 2.17469074e-02 6.41512452e-03 2.01428961e-03\n",
      "  1.82644639e-03 5.66734991e-04 9.58091870e-04 5.72803954e-04\n",
      "  6.00058353e-04 8.48444528e-04 4.13696282e-03 7.12369308e-02\n",
      "  2.57685870e-01 1.10907145e-01 1.09405369e-01 8.22862461e-02\n",
      "  4.58776094e-02 4.89122756e-02 1.19663320e-01 6.76549524e-02\n",
      "  1.10387010e-02 7.54338177e-03 5.43980151e-02 2.18760118e-01\n",
      "  5.23480177e-01 6.05700195e-01 5.43289185e-01 2.38862246e-01\n",
      "  5.39993793e-02 3.85164693e-02 1.23169441e-02 4.62362869e-03\n",
      "  2.02946248e-03 1.55716389e-03 1.00783596e-03 6.36116893e-04\n",
      "  6.27107045e-04 6.59289712e-04 1.11318715e-02 1.38434872e-01\n",
      "  4.01361078e-01 4.49033380e-01 2.04216883e-01 1.27669707e-01\n",
      "  5.49624376e-02 4.92656119e-02 4.11489010e-02 2.96205524e-02\n",
      "  1.00816842e-02 1.57033242e-02 5.89805134e-02 2.16359690e-01\n",
      "  5.97896457e-01 7.35897481e-01 6.08217478e-01 2.82126337e-01\n",
      "  4.66539674e-02 1.40415290e-02 1.51613140e-02 3.99993220e-03\n",
      "  3.67191923e-03 9.84734274e-04 1.03996182e-03 6.99398515e-04\n",
      "  9.59743222e-04 1.08435238e-03 1.38847390e-02 3.87767643e-01\n",
      "  6.45791113e-01 5.88276088e-01 5.00484228e-01 2.92753845e-01\n",
      "  2.72968233e-01 1.26343697e-01 7.37950653e-02 2.81412862e-02\n",
      "  1.81773398e-02 3.36619616e-02 1.41292080e-01 4.52180535e-01\n",
      "  7.98697829e-01 8.56127143e-01 6.76979303e-01 1.72623068e-01\n",
      "  4.26920392e-02 1.44598819e-02 7.43817398e-03 6.23408612e-03\n",
      "  9.57212131e-03 2.06267857e-03 1.29341171e-03 5.44947747e-04\n",
      "  4.96294233e-04 4.30303131e-04 1.16832657e-02 3.43006581e-01\n",
      "  7.11150706e-01 6.85578465e-01 8.26147914e-01 7.19640732e-01\n",
      "  5.41739702e-01 2.27749273e-01 1.15035132e-01 8.63981992e-02\n",
      "  8.66234452e-02 2.15659246e-01 5.62406421e-01 7.21969783e-01\n",
      "  8.55233252e-01 7.19956517e-01 3.81804615e-01 1.16772741e-01\n",
      "  2.39592679e-02 1.04240431e-02 1.05784955e-02 4.08871239e-03\n",
      "  4.34376998e-03 2.36347714e-03 6.68840716e-04 6.53450552e-04\n",
      "  5.53796708e-04 6.09395269e-04 4.30943677e-03 2.14389041e-01\n",
      "  5.02430916e-01 8.11266005e-01 8.62003326e-01 8.91153395e-01\n",
      "  7.73321688e-01 6.54463291e-01 5.56757331e-01 4.88137126e-01\n",
      "  6.80353582e-01 7.78742135e-01 8.27431262e-01 8.52176309e-01\n",
      "  7.77322590e-01 4.17221844e-01 1.00161672e-01 3.69869135e-02\n",
      "  1.57522522e-02 1.05908606e-02 5.70545858e-03 5.46690449e-03\n",
      "  2.56163348e-03 2.83237081e-03 4.95828222e-04 9.58052697e-04\n",
      "  6.30804105e-04 9.03902343e-04 1.79186184e-03 2.55240723e-02\n",
      "  1.94612801e-01 6.92520797e-01 8.29494655e-01 8.99478555e-01\n",
      "  8.75864446e-01 8.58722150e-01 8.46997559e-01 8.88540208e-01\n",
      "  8.78472626e-01 9.20423567e-01 7.37439692e-01 5.18653333e-01\n",
      "  2.87025690e-01 2.39599869e-01 6.67789653e-02 1.08507825e-02\n",
      "  1.31626315e-02 5.61274216e-03 3.69853457e-03 1.85634056e-03\n",
      "  1.68769038e-03 1.03427412e-03 5.27691154e-04 6.56530494e-04\n",
      "  3.53284442e-04 1.07121991e-03 1.20361964e-03 3.59464600e-03\n",
      "  4.49270792e-02 1.89025789e-01 3.05506438e-01 4.33785677e-01\n",
      "  4.46811795e-01 6.45419002e-01 5.43764770e-01 6.31400585e-01\n",
      "  4.92288142e-01 3.57989728e-01 1.43200338e-01 7.34310895e-02\n",
      "  4.28352505e-02 1.86390560e-02 7.70149380e-03 3.81557969e-03\n",
      "  2.65208073e-03 1.75348984e-03 1.91043958e-03 1.87517586e-03\n",
      "  8.94181838e-04 8.16962682e-04 6.07630704e-04 1.07122038e-03\n",
      "  7.55115238e-04 5.59512526e-04 7.43750657e-04 5.91395772e-04\n",
      "  1.53891335e-03 2.14281469e-03 2.88006873e-03 6.10060291e-03\n",
      "  5.89976506e-03 9.68013518e-03 1.28181307e-02 1.42501015e-02\n",
      "  9.27333534e-03 1.00726662e-02 3.36719630e-03 6.97542541e-03\n",
      "  1.01360697e-02 2.41379160e-03 1.83144142e-03 2.04828288e-03\n",
      "  1.18292088e-03 1.52476027e-03 1.36705698e-03 1.16909703e-03\n",
      "  6.27475674e-04 7.77088630e-04 7.17273739e-04 5.76542807e-04\n",
      "  7.04100530e-04 8.86019261e-04 7.85908196e-04 7.28006416e-04\n",
      "  8.69478041e-04 1.74206134e-03 7.04213686e-04 1.05436356e-03\n",
      "  2.63537164e-04 9.02816537e-04 5.85287751e-04 9.38005687e-04\n",
      "  6.07496942e-04 3.45875218e-04 3.85775376e-04 6.33760530e-04\n",
      "  1.27067824e-03 4.20750468e-04 6.29352697e-04 1.00894610e-03\n",
      "  1.15462649e-03 1.58434256e-03 8.52510217e-04 6.98987686e-04\n",
      "  6.94618211e-04 5.74355188e-04 8.01771879e-04 7.93800224e-04\n",
      "  5.59512817e-04 5.06295124e-04 9.50202579e-04 8.59856606e-04\n",
      "  7.35374866e-04 4.58352879e-04 6.34747674e-04 9.82570811e-04\n",
      "  9.66233609e-04 1.85647584e-03 1.82277546e-03 1.18565303e-03\n",
      "  8.01993418e-04 8.95128469e-04 5.28002274e-04 7.29692052e-04\n",
      "  1.09816133e-03 1.60739617e-03 8.59420397e-04 9.98598989e-04\n",
      "  9.23773739e-04 5.45566727e-04 7.20033422e-04 7.55499641e-04\n",
      "  6.50001690e-04 8.01771530e-04 7.32814719e-04 6.50002039e-04]], shape=(1, 784), dtype=float32)\n"
     ]
    }
   ],
   "source": [
    "hh0_p = tf.nn.sigmoid(tf.matmul(sample_case, W) + hb)\n",
    "hh0_s = tf.round(hh0_p)\n",
    "\n",
    "print(\"Probability nodes in hidden layer:\" ,hh0_p)\n",
    "print(\"activated nodes in hidden layer:\" ,hh0_s)\n",
    "\n",
    "# reconstruct\n",
    "vv1_p = tf.nn.sigmoid(tf.matmul(hh0_s, tf.transpose(W)) + vb)\n",
    "\n",
    "print(vv1_p)\n",
    "#rec_prob = sess.run(vv1_p, feed_dict={ hh0_s: hh0_s_val, W: prv_w, vb: prv_vb})"
   ]
  },
  {
   "cell_type": "markdown",
   "metadata": {},
   "source": [
    "Here we plot the reconstructed image:\n"
   ]
  },
  {
   "cell_type": "code",
   "execution_count": 27,
   "metadata": {},
   "outputs": [
    {
     "data": {
      "image/png": "[encoded data removed]",
      "text/plain": [
       "<Figure size 400x400 with 1 Axes>"
      ]
     },
     "metadata": {},
     "output_type": "display_data"
    }
   ],
   "source": [
    "img = Image.fromarray(tile_raster_images(X=vv1_p.numpy(), img_shape=(28, 28),tile_shape=(1, 1), tile_spacing=(1, 1)))\n",
    "plt.rcParams['figure.figsize'] = (4.0, 4.0)\n",
    "imgplot = plt.imshow(img)\n",
    "imgplot.set_cmap('gray') "
   ]
  },
  {
   "cell_type": "markdown",
   "metadata": {},
   "source": [
    "<hr>\n",
    "\n",
    "## Want to learn more?\n",
    "\n",
    "Also, you can use __Watson Studio__ to run these notebooks faster with bigger datasets.__Watson Studio__ is IBM’s leading cloud solution for data scientists, built by data scientists. With Jupyter notebooks, RStudio, Apache Spark and popular libraries pre-packaged in the cloud, __Watson Studio__ enables data scientists to collaborate on their projects without having to install anything. Join the fast-growing community of __Watson Studio__ users today with a free account at [Watson Studio](https://cocl.us/ML0120EN_DSX).This is the end of this lesson. Thank you for reading this notebook, and good luck on your studies.\n"
   ]
  },
  {
   "cell_type": "markdown",
   "metadata": {},
   "source": [
    "### Thanks for completing this lesson!\n",
    "\n",
    "Notebook created by: <a href = \"https://ca.linkedin.com/in/saeedaghabozorgi\">Saeed Aghabozorgi</a>\n",
    "\n",
    "Updated to TF 2.X by  <a href=\"https://ca.linkedin.com/in/nilmeier\"> Jerome Nilmeier</a><br />\n"
   ]
  },
  {
   "cell_type": "markdown",
   "metadata": {},
   "source": [
    "### References:\n",
    "https://en.wikipedia.org/wiki/Restricted_Boltzmann_machine  \n",
    "http://deeplearning.net/tutorial/rbm.html  \n",
    "http://www.cs.utoronto.ca/~hinton/absps/netflixICML.pdf<br>\n",
    "http://imonad.com/rbm/restricted-boltzmann-machine/  \n"
   ]
  },
  {
   "cell_type": "markdown",
   "metadata": {},
   "source": [
    "<hr>\n",
    "\n",
    "Copyright &copy; 2018 [Cognitive Class](https://cocl.us/DX0108EN_CC). This notebook and its source code are released under the terms of the [MIT License](https://bigdatauniversity.com/mit-license/).\n"
   ]
  }
 ],
 "metadata": {
  "kernelspec": {
   "display_name": "Python",
   "language": "python",
   "name": "conda-env-python-py"
  },
  "language_info": {
   "codemirror_mode": {
    "name": "ipython",
    "version": 3
   },
   "file_extension": ".py",
   "mimetype": "text/x-python",
   "name": "python",
   "nbconvert_exporter": "python",
   "pygments_lexer": "ipython3",
   "version": "3.7.12"
  }
 },
 "nbformat": 4,
 "nbformat_minor": 4
}
